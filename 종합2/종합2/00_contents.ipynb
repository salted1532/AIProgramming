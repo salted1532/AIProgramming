{
 "cells": [
  {
   "cell_type": "markdown",
   "id": "89db9532-9071-4e68-9682-a243028b4707",
   "metadata": {},
   "source": [
    "\n",
    "# \"최신 LLM 기반 챗봇개발 기술(통합본)\"\n",
    "\n",
    "\n",
    "```\n",
    "> 작성자   : 권 무 혁 \n",
    "> 작성일자 : 2024.11.17\n",
    "```\n",
    "\n",
    "## 사용법\n",
    "> 아래 2의 구성요소에서, 해당하는 부분을 클릭하면, 쥬피터파일로 자동이동한다.\n",
    "> \n",
    "<hr/>"
   ]
  },
  {
   "cell_type": "markdown",
   "id": "7886d50c-d98e-471a-a1c3-686ed32296ad",
   "metadata": {
    "jp-MarkdownHeadingCollapsed": true
   },
   "source": [
    "# 1. 왜, RAG기술을 사용해야 하나?\n",
    "\n",
    "> -일반 LLM기반의 챗봇 (학습한 LLM에게 사용자가 질의하는 방식) [일반LLM기반의챗봇연습하기](test_llm_general.ipynb)\n",
    "\n",
    "![LLM의한계](https://miro.medium.com/v2/resize:fit:1100/format:webp/1*pUnPWqmfTa4NAhAgNIMGqg@2x.jpeg)\n",
    "\n",
    "> -일반 LLM기반 챗봇의 할루시네이션을 줄이는 방법 (추가 정보 합쳐서, LLM에게 사용자가 질의하는 방식)\n",
    "![LLM의 할루시네이션을 줄이는 방법](https://miro.medium.com/v2/resize:fit:1100/format:webp/1*rz7Ovb8_g2OUwXoY3ziHRg@2x.jpeg)"
   ]
  },
  {
   "cell_type": "markdown",
   "id": "463d6d9d-fd9b-443c-afcc-4e1a13934f59",
   "metadata": {},
   "source": [
    "> Vectorstore기술은 어떻게 돌아가는가?\n",
    "\n",
    "![aaaaa](https://miro.medium.com/v2/resize:fit:828/format:webp/0*-Ov-ItF0yc5A01nT.png)"
   ]
  },
  {
   "cell_type": "markdown",
   "id": "7a32d106-17ae-4b0d-be99-ef5234755d95",
   "metadata": {},
   "source": [
    "# 2. RAG의 구성 요소기술\n",
    "\n",
    "\n",
    "> 1. LLM 사용하기위한 등록 및 API KEY 저장하기\n",
    ">\n",
    "> >[1) OpenAI에 가입하기](test_openai_apikey.ipynb)  \n",
    "> >[2) Huggingface에 가입하기](test_huggingface_apikey.ipynb)  \n",
    "> >[3) \".env\" 파일에 저장하기](test_env_file.ipynb)  \n",
    "> >[4) LLM 모델만 다운로드 설치하기](test_llm_download.ipynb)    \n",
    ">\n",
    "> 2. LLM에 질의하기\n",
    ">\n",
    "> >[1) LLM에 질의하는 방법](test_simple_llm.ipynb)\n",
    ">\n",
    "> 4. Encode/Embedding\n",
    "> \n",
    "> >[1) OpenAI에서 사용하는 encode/decode](test_encode_openai.ipynb)  \n",
    "> >[2) Huggingface에서 사용하는 encode/decode](test_encode_hf.ipynb)  \n",
    "> \n",
    "> 3. 할루시네이션을 줄이는 방법\n",
    "> \n",
    "> >[1) 할루시네이션이란](test_hallucination.ipynb)  \n",
    "> >[2) 할루시네이션을 줄이는방법(Prompt,RAG)](test_prompt.ipynb)  \n",
    "> >[3. 질의에서 프롬프트를 바꿔가면서, LLM에 실전 테스트해보기](test_prompt_test.ipynb)  \n",
    "> >[4. 질의에서 History를 넣어서 사용하는 방법](test_chathistory.ipynb)\n",
    "> \n",
    "> 3. Vectorstore -- Indexing단계\n",
    ">\n",
    "> >[1) OpenAI로 Web문서를 읽어서, Vectorstore에 저장하는 방법](test_indexing_loader_splitter_chroma.ipynb)  \n",
    "> >[2) hugginffcae로 pdf파일을 읽어서, vectorstore에 저장하는 방법](test_hf_rag.ipynb)\n",
    "> \n",
    "> 2. Vectorstore -- Query단계\n",
    ">\n",
    "> >[1) OpenAI로 Web문서를 읽어서, Vectorstore에 저장하고 검색하는 방법/아래쪽위치](test_indexing_loader_splitter_chroma.ipynb)  \n",
    "> >[2) hugginffcae로 pdf파일을 읽어서, vectorstore에 저장하고 검색하는 방법/아래쪽위치](test_hf_rag.ipynb)\n",
    "> \n",
    "> 3. 문서 Loader\n",
    ">\n",
    "> >[1) 다양한 종류의 문서 읽어들이는 방법](test_loader.ipynb)  \n",
    "> >[2) universal하게 문서를 읽어들이는 방법](test_loader_universal.ipynb)\n",
    "> >[3) youtube에서 음성추출하는 방법](test_loader_universal.ipynb)\n",
    "> \n",
    "> 4. 문서 splitter\n",
    ">\n",
    "> >[1) 텍스트와 python 소스코드를 분리하는 방법](test_splitters.ipynb)\n",
    "> \n",
    "> 5. Vectorstore 종류들\n",
    ">\n",
    "> >[1) langchain에서 지원해주는 다양한 vectorstore 종류들](https://python.langchain.com/docs/integrations/vectorstores/)\n",
    "> \n",
    "> 6. LLM 종류들\n",
    ">\n",
    "> >[1) Langchain에서 지원해주는 LLM 종류들](https://python.langchain.com/docs/integrations/chat/)  \n",
    "> >[2) OpenAI와 Huggingface LLM+RAG로 채팅하는 방법](test_llm_rag_general.ipynb)  \n",
    "> >[3) Huggingface LLM으로, API방식(ollama)으로 채팅하는 방법(무료)](test_rag_ollama.ipynb)\n",
    "> >\n",
    ">\n",
    "> 7. LLM+RAG 통합코드\n",
    ">\n",
    "> >[1) 상기 부분기능을 통합한 코드보기](test_rag_all_llm_general.ipynb)\n",
    "> \n",
    "> 8. Chatbot(RAG방식포함) UI 기술 종류들\n",
    ">\n",
    "> >[1) flask기술/Blenderbot/No-RAG](https://python.langchain.com/docs/integrations/chat/)  \n",
    "> >[2) streamlit기술/Blenderbot/No-RAG](test_streamlit_chatbot.ipynb)  \n",
    "> >[3) chainlit기술](test_chainlit_chatbot.ipynb)  \n",
    "> >[4) gradio기술](test_chainlit_chatbot.ipynb)  --미구현  "
   ]
  },
  {
   "cell_type": "markdown",
   "id": "0a30795f-7210-4cd9-8092-c2a79b49cca1",
   "metadata": {},
   "source": [
    "# 3. 실습을 위한 사전 작업\n",
    "\n",
    "> 1. 필수 리눅스 명령어들\n",
    ">\n",
    ">>[1) 리눅스 관리자/사용자의 필수 명령어모음](test_linuxcommand.ipynb)  \n",
    ">\n",
    "> 2. 서버(리눅스) 설치 방법\n",
    ">\n",
    ">>[1) Virtualbox 가상서버 설치](test_virtualserver.ipynb)\n",
    ">\n",
    "> 3. 가상환경 Anaconda 설치 사용법\n",
    ">\n",
    ">>[1) 가상환경 설치](test_virtualserver.ipynb)\n",
    ">\n",
    "> 4. 쥬피터 설치 사용법\n",
    ">\n",
    ">>[1) 브라우저기반 코드편집기 설치](test_virtualserver.ipynb)\n",
    ">\n",
    "> 5. Cursor 설치 방법\n",
    ">\n",
    ">>[1) AI기반 코드편집기 설치](test_virtualserver.ipynb)\n",
    ">\n",
    "> 6. ssh, sftp 설치 방법\n",
    ">\n",
    ">>[1) xshell, xftp 설치](test_virtualserver.ipynb)\n",
    ">>\n",
    "> 7. AI기반 편집기- Github copilot 설치 방법 (유료, 30일무료)\n",
    ">\n",
    ">>[1) github copilot 설치](test_virtualserver.ipynb)  \n",
    " "
   ]
  },
  {
   "cell_type": "markdown",
   "id": "ca5aaa6e-2dee-4538-9a00-19666ec748e6",
   "metadata": {},
   "source": [
    "# 4. 기타 정보\n",
    "\n",
    "> 1. META의 dataset\n",
    ">> [전세계 언어 dataset(META)으로 이동](https://metatext.io/datasets-list/korean-language)\n",
    "    "
   ]
  },
  {
   "cell_type": "code",
   "execution_count": null,
   "id": "b8d33e37-57ad-494b-8a6f-7f6a9db88fdc",
   "metadata": {},
   "outputs": [],
   "source": []
  }
 ],
 "metadata": {
  "kernelspec": {
   "display_name": "py39",
   "language": "python",
   "name": "py39"
  },
  "language_info": {
   "codemirror_mode": {
    "name": "ipython",
    "version": 3
   },
   "file_extension": ".py",
   "mimetype": "text/x-python",
   "name": "python",
   "nbconvert_exporter": "python",
   "pygments_lexer": "ipython3",
   "version": "3.9.20"
  }
 },
 "nbformat": 4,
 "nbformat_minor": 5
}
