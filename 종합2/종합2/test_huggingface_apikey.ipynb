{
 "cells": [
  {
   "cell_type": "code",
   "execution_count": null,
   "id": "13c0992f-bc80-4468-b5e1-ca32de253058",
   "metadata": {},
   "outputs": [],
   "source": [
    "\n",
    "# huggingface에 등록하기\n",
    "\n",
    "# 이 사이트에서 무료 LLM등 download사용하는것들이 많다.\n",
    "# 무조건 등록하고 API를 저장해둔다."
   ]
  },
  {
   "cell_type": "markdown",
   "id": "2565465d-91f3-422d-97ec-9b38f407d0f3",
   "metadata": {},
   "source": [
    "# 1) 가입 홈페이지로 이동\n",
    "\n",
    "[가입페이지로이동](https://huggingface.co/)\n",
    "\n",
    "\n",
    "# 2) access token key 발행 받기\n",
    "\n",
    "![토큰생성하기화면](https://tribe-s3-production.imgix.net/DuxEyAEsvaOD1XNZZtdMD?auto=compress,format&dl)\n",
    "\n",
    "# 모드 설정\n",
    "![](https://img1.daumcdn.net/thumb/R1280x0/?scode=mtistory2&fname=https%3A%2F%2Fblog.kakaocdn.net%2Fdn%2FdM5yJ0%2FbtsF2RnZyZC%2F6pMUIIlNwpsLK1q7CPdJ6k%2Fimg.png)\n",
    "\n",
    "# 토큰 복사 - 복사하여 별도로 저장해둔다. \".env\" 파일에 추가한다.\n",
    "![](https://img1.daumcdn.net/thumb/R1280x0/?scode=mtistory2&fname=https%3A%2F%2Fblog.kakaocdn.net%2Fdn%2FxJra2%2FbtsF1DEezXE%2FuzQmVNj8zthO0JuUAfKVAk%2Fimg.png)\n",
    "\n"
   ]
  },
  {
   "cell_type": "code",
   "execution_count": null,
   "id": "825a74b5-f30b-402a-b2ed-5f03993e09f5",
   "metadata": {},
   "outputs": [],
   "source": []
  }
 ],
 "metadata": {
  "kernelspec": {
   "display_name": "mymychabot",
   "language": "python",
   "name": "mychabot"
  },
  "language_info": {
   "codemirror_mode": {
    "name": "ipython",
    "version": 3
   },
   "file_extension": ".py",
   "mimetype": "text/x-python",
   "name": "python",
   "nbconvert_exporter": "python",
   "pygments_lexer": "ipython3",
   "version": "3.9.19"
  }
 },
 "nbformat": 4,
 "nbformat_minor": 5
}
