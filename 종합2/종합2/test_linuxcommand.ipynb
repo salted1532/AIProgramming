{
 "cells": [
  {
   "cell_type": "markdown",
   "id": "b9992c3e-374a-4e68-aa5b-2445d2a576a0",
   "metadata": {},
   "source": [
    "\n",
    "# 리눅스 명령어 모음\n",
    "\n",
    "- 리눅스(Ubuntu, centos등)에 접속해서 관리를 하려면 반드시 알아야하는 명령어 모음\n",
    "<hr>"
   ]
  },
  {
   "cell_type": "markdown",
   "id": "7a53c2ea-431a-4c6a-8b08-cbfb1466f254",
   "metadata": {},
   "source": [
    "# 기본 개념\n",
    "\n",
    "- 리눅스에서는 관리모드(root)와 사용자모드로 구분\n",
    "- 관리자모드에서는 시스템 및 OS에 관한 기능 추가, 변경, 삭제등이 가능\n",
    "- 사용자모드에서는 관리자모드로 설치된 환경하에서, 사용자에게만 필요한 기능을 추가, 변경, 삭제등이 가능\n"
   ]
  },
  {
   "cell_type": "code",
   "execution_count": null,
   "id": "c93d5f2a-6ab6-4ffa-b6c0-96d5421e66f9",
   "metadata": {},
   "outputs": [],
   "source": [
    "# 1) 모듈 설치관련\n",
    "# - ubuntu에서는, 자주 다음 명령어를 실행시켜줘야,\n",
    "# 모듈들이 정상적으로 동작하도록 되어 있다.\n",
    "\n",
    "# apt update\n",
    "# apt upgrade"
   ]
  },
  {
   "cell_type": "code",
   "execution_count": null,
   "id": "9fbd77a0-39cc-4706-a421-41b3b48585ea",
   "metadata": {},
   "outputs": [],
   "source": [
    "# 2) 공통 필수 명령어들\n",
    "\n",
    "# 2.1) 현재 디렉토리에서 파일 및 폴더 정보 확인\n",
    "# ls -al\n",
    "\n",
    "# 2.2) 현재 사용자의 폴더로 이동하기, 명령어를 실행하면 프롬프트에서 폴더가 변경된다.\n",
    "# cd <엔터>\n",
    "\n",
    "# 2.3) 현재 폴더 확인하기\n",
    "# pwd\n",
    "\n",
    "# 2.4) 폴더 이동\n",
    "# cd <폴더명>\n",
    "\n",
    "# 2.5) 폴더 만들기\n",
    "# mkdir <폴더명>\n",
    "\n",
    "# 2.6) 폴더 삭제\n",
    "# rm -r <폴더명>\n",
    "\n",
    "# 2.7) 파일 삭제\n",
    "# rm <파일명>\n",
    "\n",
    "# 2.8) 권한 변경\n",
    "# chmod xxx 파일또는폴더명\n",
    "\n",
    "# 2.9) 파일 편집, 만들기\n",
    "# vi <파일명> 또는 nano <파일명>\n",
    "\n",
    "# 2.10) 데몬/서비스/프로그램 실행확인\n",
    "# ps ax\n",
    "\n",
    "# 2.11) 데몸/서비스/프로그램 죽이기\n",
    "# kill 프로세스번호 \n",
    "\n",
    "# 2.12) 로그파일 실시간 보기\n",
    "# tail -f 파일명\n",
    "\n",
    "# 2.13) 접속자의 사용자명 확인하기\n",
    "# whoami\n",
    "\n",
    "# 2.14) 현재 접속자 목록 확인하기\n",
    "# w\n",
    "\n",
    "# 2.15) 실행환경 변경하기\n",
    "# source <.bashrc파일>\n",
    "\n",
    "# 2.16) 네트워크 설정 확인하기\n",
    "# ip a\n",
    "\n",
    "# 2.16) 네트워크 연결 확인하기\n",
    "# ping ip주소또는서버이름\n"
   ]
  },
  {
   "cell_type": "code",
   "execution_count": null,
   "id": "0769718d-cee4-4e28-891e-f98b487aa5a9",
   "metadata": {},
   "outputs": [],
   "source": [
    "# 3) 관리자 모드의 명령어들\n",
    "\n",
    "# 3.1) 사용자 추가/삭제/변경\n",
    "# useradd / userdel\n",
    "\n",
    "# 3.2) ip, dns 변경\n",
    "# 네트워크 설정에서\n",
    "\n",
    "# 3.3) 모듈 설치/삭제\n",
    "# apt install <모듈명>\n",
    "# apt uninstall <모듈명>\n",
    "\n",
    "# 3.4) 사용자 권한 변경\n",
    "# chown 사용자명:그룹명 폴더또는폴더\n",
    "\n",
    "### 중요 모듈 설치하기\n",
    "# 3.5) ssh 접속 모듈 설치 - ssh shell, sftp로 접속할때 사용\n",
    "# apt install openssh-server\n",
    "\n",
    "# 3.6) git 모듈 설치 - github에서 설치시 사용\n",
    "# apt install git\n",
    "\n",
    "# 3.7) wget 모듈 설치 - 외부서버에서 파일 다운로드시 사용\n",
    "# apt install wget\n",
    "\n",
    "# 3.8) 네트워크로 패킷 덤프\n",
    "# tcpdump -i 인퍼페이스 프로토콜 포트\n"
   ]
  },
  {
   "cell_type": "code",
   "execution_count": null,
   "id": "74978308-f6b1-4606-a589-0120bd9c42e8",
   "metadata": {},
   "outputs": [],
   "source": [
    "# 4) 사용자 모드의 명령어들\n",
    "\n",
    "# 4.1) 프로그램 실행\n",
    "# 프로그램이름 <엔터>\n",
    "\n",
    "# 4.2) 관리자 명령어 실행\n",
    "# sudo 관리자명령어 \n",
    "\n"
   ]
  },
  {
   "cell_type": "code",
   "execution_count": null,
   "id": "826426f6-ada0-4ec6-b890-71fb57eae399",
   "metadata": {},
   "outputs": [],
   "source": [
    "# 5) 주요 키보드 기능\n",
    "\n",
    "# 5.1) 파일 또는 폴더명 자동 찾아 주기\n",
    "# 시작하는 몇글자만 입력하고, 탭키를 누른다.\n",
    "\n",
    "# 5.2) 실행 프로그램 종료\n",
    "# ctrl+c\n",
    "\n",
    "# 5.2) 실행 프로그램 정지및 재실행\n",
    "# ctrl+z  (정지)\n",
    "# fg  또는 bg  (재실행)\n",
    "\n",
    "\n"
   ]
  }
 ],
 "metadata": {
  "kernelspec": {
   "display_name": "mymychabot",
   "language": "python",
   "name": "mychabot"
  },
  "language_info": {
   "codemirror_mode": {
    "name": "ipython",
    "version": 3
   },
   "file_extension": ".py",
   "mimetype": "text/x-python",
   "name": "python",
   "nbconvert_exporter": "python",
   "pygments_lexer": "ipython3",
   "version": "3.9.19"
  }
 },
 "nbformat": 4,
 "nbformat_minor": 5
}
