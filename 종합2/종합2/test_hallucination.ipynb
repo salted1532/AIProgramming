{
 "cells": [
  {
   "cell_type": "markdown",
   "id": "fb5a525b-8c3c-4239-81cf-977b7cb69cff",
   "metadata": {},
   "source": [
    "\n",
    "# 할루시네이션을 줄이기 위한 방법\n",
    "\n"
   ]
  },
  {
   "cell_type": "markdown",
   "id": "67d3979b-0ab6-4a91-8ad5-c9e729d52cd7",
   "metadata": {},
   "source": [
    "> 할루시네이션이란,\n",
    "\n",
    ">> LLM에서 학습을 시켜서 만든 model에서,\n",
    ">> 질의하는 문장의 구성에따라, 응답이 다르게 나온다.\n",
    ">> 따라서, 보다 정확하게 질의를 하게되면, 응답율을 높일수가 있다.\n",
    "\n",
    ">> 이렇게 하기 위해서,\n",
    ">> 1) 질의에 추가질의를 하는 방법과  - 프롬프트 작업에 설명\n",
    ">> 2) 문서에서 읽어와서 문장을 추가 하는 방법과  (rag에서 설명)\n",
    ">> 3) 외부 전문 사이트에서 정보를 가져와서, 추가 하는 방법이 있다.  (RAG AGENT에서 설명)\n"
   ]
  },
  {
   "cell_type": "markdown",
   "id": "e8684b5c-50e2-4735-b096-7c88061bf8b6",
   "metadata": {},
   "source": [
    "# 1) 관련 논문\n",
    "\n",
    "> Reducing hallucination in structured outputs via Retrieval-Augmented Generation\n",
    "> - In addition, we show that using a small, well-trained retriever encoder can reduce the size of the accompanying LLM, \n",
    "[논문보기](https://arxiv.org/abs/2404.08189)\n",
    "\n",
    "\n",
    "\n",
    "> 뉴욕타임즈에서 실린 기사\n",
    "> [기사보기](https://www.nytimes.com/2023/05/01/business/ai-chatbots-hallucination.html)\n",
    ">\n",
    "\n",
    "> 의학에서 정의한 개념\n",
    "> [기사보기](https://www.nhs.uk/mental-health/feelings-symptoms-behaviours/feelings-and-symptoms/hallucinations-hearing-voices/#:~:text=Hallucinations%20are%20where%20you%20hear,only%20exist%20in%20your%20mind.)"
   ]
  },
  {
   "cell_type": "code",
   "execution_count": null,
   "id": "63421f80-d257-4811-bf41-6fadb426ab0a",
   "metadata": {},
   "outputs": [],
   "source": []
  }
 ],
 "metadata": {
  "kernelspec": {
   "display_name": "mymychabot",
   "language": "python",
   "name": "mychabot"
  },
  "language_info": {
   "codemirror_mode": {
    "name": "ipython",
    "version": 3
   },
   "file_extension": ".py",
   "mimetype": "text/x-python",
   "name": "python",
   "nbconvert_exporter": "python",
   "pygments_lexer": "ipython3",
   "version": "3.9.19"
  }
 },
 "nbformat": 4,
 "nbformat_minor": 5
}
