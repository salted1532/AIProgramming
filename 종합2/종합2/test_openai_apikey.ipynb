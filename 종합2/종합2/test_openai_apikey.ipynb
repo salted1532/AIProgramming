{
 "cells": [
  {
   "cell_type": "code",
   "execution_count": null,
   "id": "2428b17c-d3d3-428b-b83c-33de4916b60f",
   "metadata": {},
   "outputs": [],
   "source": [
    "\n",
    "# openai에 가입하기\n",
    "\n",
    "# 가입하고, API_KEY를 가져와서, 명령어를 호출할때 넣어줘야 사용이 가능하다.\n",
    "\n"
   ]
  },
  {
   "cell_type": "markdown",
   "id": "dcbc4010-e597-4385-aede-c742f87a46fb",
   "metadata": {},
   "source": [
    "# 1) 등록하기 - 신용카드 정보를 넣어야 발급이 된다. 한도액을 정해놓는다.\n",
    "## signup을 선택해서 가입한다.\n",
    "[OpenAI사의 등록 홈페이지 이동](https://platform.openai.com/docs/api-reference/introduction)\n",
    "\n",
    "# API키값을 생성하는 화면\n",
    "![API키값 생성하는 화면](https://velog.velcdn.com/images/yule/post/21cd4f4b-562a-42a9-aefa-8d89c5a4addd/image.png)\n",
    "\n",
    "\n",
    "# API키값을 복사하는 화면\n",
    "![복사하기화면](https://velog.velcdn.com/images/yule/post/319096d0-b26f-4501-ab6f-eeba09711ef8/image.png)"
   ]
  },
  {
   "cell_type": "code",
   "execution_count": null,
   "id": "8adc6f21-ba30-463f-8c6d-771de36c9b51",
   "metadata": {},
   "outputs": [],
   "source": [
    "# 1) 변수값을 설정해서 사용하는 방법\n",
    "\n",
    "OPENAI_API_KEY = \"API_KEY값\"\n",
    "\n",
    "import OpenAI from \"openai\"\n",
    "openai = OpenAI(api_key=OPENAI_API_KEY)\n",
    "\n",
    "completion = await openai.chat.completions.create({\n",
    "    model: \"gpt-4o\",\n",
    "    messages: [\n",
    "        { role: \"system\", content: \"You are a helpful assistant.\" },\n",
    "        {\n",
    "            role: \"user\",\n",
    "            content: \"Write a haiku about recursion in programming.\",\n",
    "        },\n",
    "    ],\n",
    "});\n",
    "\n",
    "print(completion.choices[0].message);"
   ]
  },
  {
   "cell_type": "code",
   "execution_count": null,
   "id": "4fcbeded-5f39-4bd2-ac4b-67f5158d245b",
   "metadata": {},
   "outputs": [],
   "source": [
    "# 2) 리눅스의 환경변수값을 설정해서 사용하는 방법\n",
    "\n",
    "import os\n",
    "\n",
    "OPENAI_API_KEY = os.environ[\"OPENAI_API_KEY\"]\n",
    "\n",
    "import OpenAI from \"openai\"\n",
    "const openai = new OpenAI()"
   ]
  },
  {
   "cell_type": "code",
   "execution_count": null,
   "id": "71f36f1e-1021-458e-a4ae-ced335826e99",
   "metadata": {},
   "outputs": [],
   "source": [
    "\n",
    "# 환경 변수에 OPENAI_API_KEY라는값으로 API_KEY값이 저장한후 실행해야 한다.\n",
    "\n",
    "curl https://api.openai.com/v1/chat/completions \\\n",
    "  -H \"Content-Type: application/json\" \\\n",
    "  -H \"Authorization: Bearer $OPENAI_API_KEY\" \\\n",
    "  -d '{\n",
    "    \"model\": \"gpt-4o\",\n",
    "    \"messages\": [\n",
    "      {\n",
    "        \"role\": \"system\",\n",
    "        \"content\": \"You are a helpful assistant.\"\n",
    "      },\n",
    "      {\n",
    "        \"role\": \"user\",\n",
    "        \"content\": \"Hello!\"\n",
    "      }\n",
    "    ]\n",
    "  }'\n"
   ]
  },
  {
   "cell_type": "raw",
   "id": "150ecd3b-1fdc-46e6-84bd-91917fbfbc7f",
   "metadata": {},
   "source": [
    "# 응답값의 포멧\n",
    "\n",
    "{\n",
    "  \"id\": \"chatcmpl-123\",\n",
    "  \"object\": \"chat.completion\",\n",
    "  \"created\": 1677652288,\n",
    "  \"model\": \"gpt-4o-mini\",\n",
    "  \"system_fingerprint\": \"fp_44709d6fcb\",\n",
    "  \"choices\": [{\n",
    "    \"index\": 0,\n",
    "    \"message\": {\n",
    "      \"role\": \"assistant\",\n",
    "      \"content\": \"\\n\\nHello there, how may I assist you today?\",\n",
    "    },\n",
    "    \"logprobs\": null,\n",
    "    \"finish_reason\": \"stop\"\n",
    "  }],\n",
    "  \"usage\": {\n",
    "    \"prompt_tokens\": 9,\n",
    "    \"completion_tokens\": 12,\n",
    "    \"total_tokens\": 21,\n",
    "    \"completion_tokens_details\": {\n",
    "      \"reasoning_tokens\": 0,\n",
    "      \"accepted_prediction_tokens\": 0,\n",
    "      \"rejected_prediction_tokens\": 0\n",
    "    }\n",
    "  }\n",
    "}\n"
   ]
  }
 ],
 "metadata": {
  "kernelspec": {
   "display_name": "mymychabot",
   "language": "python",
   "name": "mychabot"
  },
  "language_info": {
   "codemirror_mode": {
    "name": "ipython",
    "version": 3
   },
   "file_extension": ".py",
   "mimetype": "text/x-python",
   "name": "python",
   "nbconvert_exporter": "python",
   "pygments_lexer": "ipython3",
   "version": "3.9.19"
  }
 },
 "nbformat": 4,
 "nbformat_minor": 5
}
