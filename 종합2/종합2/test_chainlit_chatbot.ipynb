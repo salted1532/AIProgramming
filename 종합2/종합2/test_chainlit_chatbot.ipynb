{
 "cells": [
  {
   "cell_type": "code",
   "execution_count": null,
   "id": "9262461d-bfa4-4023-925f-00a78f00c1bf",
   "metadata": {},
   "outputs": [],
   "source": [
    "\n",
    "# chainlit 로 만든 chatbot\n",
    "# medical pdf file을 faiss에 저장해두고, 질의에 대해서 답변을 해줌. 응답이 빠름.\n",
    "\n",
    "# vectorstore로 faiss를 사용\n",
    "# 속도를 높이기위해서, CTransformer를 사용\n",
    "\n",
    "# 실행은\n",
    "# 다음 2단계로 실행한다.\n",
    "\n",
    "\n",
    "# 필수 구성파일\n",
    "# test_chainlit_chatbot_ingest.py\n",
    "# test_chainlit_chatbot.py\n",
    "# data/***.pdf\n",
    "\n",
    "\n",
    "# 최신버전으로 수정했음.\n",
    "# 2024.11.29\n"
   ]
  },
  {
   "cell_type": "code",
   "execution_count": null,
   "id": "d17409c5-6b46-44c2-8e96-ad62a1ebee46",
   "metadata": {},
   "outputs": [],
   "source": [
    "# data폴더밑에 있는 pdf파일을 vectorstore에 저장하는 역할\n",
    "\n",
    "!python test_chainlit_chatbot_ingest.py\n",
    "\n"
   ]
  },
  {
   "cell_type": "code",
   "execution_count": null,
   "id": "d0d8b151-89d0-453c-bdbc-8ac52f008977",
   "metadata": {},
   "outputs": [],
   "source": [
    "# 챗봇을 실행한다.\n",
    "\n",
    "!chainlit run test_chainlit_chatbot.py -w --host 0.0.0.0\n"
   ]
  }
 ],
 "metadata": {
  "kernelspec": {
   "display_name": "py39",
   "language": "python",
   "name": "py39"
  },
  "language_info": {
   "codemirror_mode": {
    "name": "ipython",
    "version": 3
   },
   "file_extension": ".py",
   "mimetype": "text/x-python",
   "name": "python",
   "nbconvert_exporter": "python",
   "pygments_lexer": "ipython3",
   "version": "3.9.20"
  }
 },
 "nbformat": 4,
 "nbformat_minor": 5
}
