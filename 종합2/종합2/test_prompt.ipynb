{
 "cells": [
  {
   "cell_type": "markdown",
   "id": "7bfcebb4-975c-455e-b10c-dfdabb2b8ff2",
   "metadata": {},
   "source": [
    "\n",
    "# prompt 기법\n",
    "\n",
    "<strong>AI가 최상의 답을 할 수 있도록 훈련 시키고 AI로부터 최상의 답을 이끌어 내는 일을 하는 사람이 바로 ‘프롬프트 엔지니어’</strong>\n",
    "  \n",
    "\n",
    "  \n",
    "<strong> 참고자료</strong>\n",
    "\n",
    "- https://www.datacamp.com/blog/what-is-prompt-engineering-the-future-of-ai-communication\n",
    "- https://www.promptingguide.ai/introduction\n",
    "\n",
    "- https://github.com/dair-ai/Prompt-Engineering-Guide/blob/main/lecture/Prompt-Engineering-Lecture-Elvis.pdf\n",
    "\n",
    "- 한글 문서 (아마존)\n",
    "- https://aws.amazon.com/ko/what-is/prompt-engineering/\n",
    "\n",
    "- 프롬프트 기법\n",
    "- https://www.prompthub.us/blog/three-prompt-engineering-methods-to-reduce-hallucinations)"
   ]
  },
  {
   "cell_type": "markdown",
   "id": "799c47f5-7f30-4935-90f4-d0bdb3ad470a",
   "metadata": {},
   "source": [
    "# 다음을 클릭해서, 공부한다. 한글로 잘설명되어 있음.\n",
    "\n",
    "\n",
    "https://www.codestates.com/blog/content/%ED%94%84%EB%A1%AC%ED%94%84%ED%8A%B8-%EC%97%94%EC%A7%80%EB%8B%88%EC%96%B4-%EC%A0%95%EC%9D%98"
   ]
  },
  {
   "cell_type": "markdown",
   "id": "3af83d16-91a8-495c-aafa-b7f0ea9f5023",
   "metadata": {},
   "source": [
    "\n",
    "![qa image](images/element.PNG)\n",
    "\n"
   ]
  },
  {
   "cell_type": "markdown",
   "id": "c66c2b83-4ad7-4653-a7d5-a501ccf5356d",
   "metadata": {},
   "source": [
    "# zero-shot\n",
    "\n",
    "- 한번 학습하지 않는 것에 대한 질의에 대한 응답을 받는 방법  \n",
    "- 일반적으로 많이 알려진 지식이 해당\n",
    "\n",
    "-사용례)\n",
    "\n",
    "프롬프트\n",
    "\"\"\"\n",
    "다음 문장이 중립, 부정, 긍정인지를 분류하라.\n",
    "Text: 나는 방학은 좋다고 생각한다.\n",
    "Sentiment:\n",
    "\"\"\"\n",
    "\n",
    "응답: 중립\n",
    "\n",
    "프롬프트\n",
    "\"\"\"\n",
    "다음을 영어를 불어로 번역하라.\n",
    "치즈\n",
    "\"\"\"\n",
    "\n",
    "\n",
    "## 잘안될때는 few-shot방법을 사용\n",
    "\n",
    "![qa image](images/zeroshot.PNG)"
   ]
  },
  {
   "cell_type": "markdown",
   "id": "82d6ec08-8d64-46d1-9e84-edcafe3e435a",
   "metadata": {},
   "source": [
    "# few-shot\n",
    "\n",
    "- 몇가지의 정보를 주고 응답을 받는 방법\n",
    "\n",
    "\n",
    "-사용례)\n",
    "\n",
    "\n",
    "프롬프트\n",
    "\"\"\"\n",
    "    긍정 이거 죽인다.\n",
    "    이거는 나쁘다! 부정\n",
    "    와, 저 영화는 기차다! 긍정\n",
    "    끝내주는 쇼다! --\n",
    "\"\"\"\n",
    "응답 : 부정\n",
    "\n",
    "![qa image](images/fewshot.PNG)"
   ]
  },
  {
   "cell_type": "markdown",
   "id": "0d7d669e-35c3-42d2-8846-9b4002cf2cd0",
   "metadata": {},
   "source": [
    "# Chain-of-thought (생각의 사슬)\n",
    "\n",
    "프롬프트\n",
    "\"\"\"\n",
    "    저는 사과가 10개 있었습니다. \n",
    "    2개를 이웃에게 나눠주고, 2개는 사과가 상해서 버렸습니다. \n",
    "    그리고 5개의 사과를 더 샀고, 1개는 먹었습니다. \n",
    "    몇개가 남았나요?\n",
    "\"\"\"\n",
    "\n",
    "정답: 12개가 남았습니다.\n",
    "\n",
    "--단계별 과정을 보여달라는 문구를 추가\n",
    "\n",
    "프롬프트\n",
    "\"\"\"\n",
    "    저는 사과가 10개 있었습니다. \n",
    "    2개를 이웃에게 나눠주고, 2개는 사과가 상해서 버렸습니다. \n",
    "    그리고 5개의 사과를 더 샀고, 1개는 먹었습니다. \n",
    "    몇개가 남았나요?  \n",
    "    단계별로 생각해서, 단계별 사과의 수를 알려주고, 최종적으로 남은 사과의 수를 알려주세요.\n",
    "\"\"\"\n",
    "\n",
    "정답: \n",
    "\n",
    "1단계: 사과 10개\n",
    "2단계: 이웃에게 2개를 나눠줌 -> (10 - 2 =) 8개의 사과가 남음\n",
    "3단계: 2개를 버림 -> (8 - 2 =) 6개의 사과가 남음\n",
    "4단계: 5개를 추가로 삼 -> (6 + 5 =) 11개의 사과가 있음\n",
    "5단계: 1개를 먹음 -> (11 - 1 =) 10개의 사과가 남음\n",
    "\n",
    "최종 정답: 남은 사과는 10개입니다.\n",
    "\n",
    "![qa image](images/cot.PNG)"
   ]
  },
  {
   "cell_type": "markdown",
   "id": "00744432-1da9-4203-8260-877c528cb319",
   "metadata": {},
   "source": [
    "# RAG (Retrieval Augmented Generation)\n",
    "\n",
    "- 어떤 정보를 검색(Retrieval)하여 얻은 내용을 포함(증강, Augmented)하여 언어를 생성(Generation)합니다.\n",
    "\n",
    "** 다음에 langchain과 rag로 집중해서 코딩을 배울 예정\n",
    "\n",
    "![qa image](images/rag.PNG)"
   ]
  },
  {
   "cell_type": "code",
   "execution_count": null,
   "id": "6800f9e8-f253-413d-8ae8-c3499076e8cb",
   "metadata": {},
   "outputs": [],
   "source": []
  }
 ],
 "metadata": {
  "kernelspec": {
   "display_name": "mymychabot",
   "language": "python",
   "name": "mychabot"
  },
  "language_info": {
   "codemirror_mode": {
    "name": "ipython",
    "version": 3
   },
   "file_extension": ".py",
   "mimetype": "text/x-python",
   "name": "python",
   "nbconvert_exporter": "python",
   "pygments_lexer": "ipython3",
   "version": "3.9.19"
  }
 },
 "nbformat": 4,
 "nbformat_minor": 5
}
