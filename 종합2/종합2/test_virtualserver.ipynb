{
 "cells": [
  {
   "cell_type": "code",
   "execution_count": null,
   "id": "c6f85393-1ab0-4cd8-82d8-5cd6d41f09ee",
   "metadata": {},
   "outputs": [],
   "source": [
    "\n",
    "# 가상서버 설치하는 방법 모음\n",
    "\n",
    "# 가상서버란,\n",
    "# 사용중인 OS내에서, 프로그램 설치해서 사용하듯이, 새로운 가상서버를 위한 OS를 설치사용할수 있도록 제공해주는 프로그램"
   ]
  },
  {
   "cell_type": "markdown",
   "id": "51eba1bd-35e1-476f-a5af-1a20aa01053e",
   "metadata": {},
   "source": [
    "# 1) virtualbox\n",
    "- 윈도우에서 설치\n",
    "- oracle에서 만들어서 배표(무료)\n",
    "- 윈도우나 리눅스를 선택적으로 설치가능\n",
    "- 네트워크에서 브릿지모드로 변경해야, 윈도우에서 ssh등이 접속가능\n",
    "[다운로드하기](https://www.virtualbox.org/wiki/Downloads)\n",
    "\n",
    "\n",
    "# 2) WSL\n",
    "- 윈도우에서 설치\n",
    "- MS에서 윈도우내에서 새로운 리눅스를 설치할수 있도록 제공(무료)\n",
    "- 오로지 MS에서 지원해주는것만 설치가능\n",
    "- 장점은 gpu driver를 사용가능(AI실습에서는 유리)\n",
    "- cursor편집기등과 연결이 쉬움\n",
    "\n",
    "- 2.1) 설치하기\n",
    "  powershell 실행\n",
    "  wsl --install\n",
    "\n",
    "  이외에 윈도우에서 \"기능커기\"에서 설정필요\n",
    "\n",
    "- 2.2) 실행하기\n",
    "  powershell 실행\n",
    "  wsl -u root   <관리자로 실행>\n",
    "\n",
    "  wsl <사용자로 실행>\n",
    "\n"
   ]
  },
  {
   "cell_type": "code",
   "execution_count": null,
   "id": "0a654b5e-f9aa-4069-b2f7-d1eeb0455890",
   "metadata": {},
   "outputs": [],
   "source": []
  }
 ],
 "metadata": {
  "kernelspec": {
   "display_name": "mymychabot",
   "language": "python",
   "name": "mychabot"
  },
  "language_info": {
   "codemirror_mode": {
    "name": "ipython",
    "version": 3
   },
   "file_extension": ".py",
   "mimetype": "text/x-python",
   "name": "python",
   "nbconvert_exporter": "python",
   "pygments_lexer": "ipython3",
   "version": "3.9.19"
  }
 },
 "nbformat": 4,
 "nbformat_minor": 5
}
