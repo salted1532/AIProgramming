{
 "cells": [
  {
   "cell_type": "code",
   "execution_count": null,
   "id": "a3da5f55-1c76-4d28-bf14-8c778675af86",
   "metadata": {},
   "outputs": [],
   "source": [
    "\n",
    "# \".env\" 파일이란\n",
    "\n",
    "\n",
    "- 리눅스에서 환경변수라는것이 있다. 즉 리눅스 자체에 값을 저장하는 변수를 설정할수 있다.\n",
    "- 이 변수에 KEY값이나, 설정값을 설정해서 사용하면,\n",
    "- 프로그램에서 이 환경변수값을 체크해서, 설정되어 있으면 이 값으로 동작하게 해주는 역할을 한다.\n",
    "- 옵션설정등이 매번 실행할때마다, 번거로운데, 이 값을 활용하면 쉽다.\n",
    "\n",
    "\n",
    "- 그리고, 리눅스에서 가상환경이라는 기능이 있다.\n",
    "- 즉, 사용자마다 자신의 가상환경을 여러개 만들어서, 각각 환경에 맞게 동작할수 있도록 기능을 제공해준다.\n",
    "- 그런데, 사용자마다의 설정값은 환경변수에 설정해서 사용할수도 있지만,\n",
    "- 이를 별도의 파일에 모아서 관리하고,\n",
    "- 실행시에 이 파일을 읽어들이고, 여기에 설정된 변수을 모두 환경변수로 전환해주고,\n",
    "- 사용하면 편리하다. 이런 목적으로 만드는 파일이 \".env\"파일이다.\n",
    "- 본인의 홈디렉토리에 저장해두고, 불러 사용하면 편리하다.\n"
   ]
  },
  {
   "cell_type": "code",
   "execution_count": null,
   "id": "24bd2d75-9b61-4cac-80a0-452cddfbb647",
   "metadata": {},
   "outputs": [],
   "source": [
    "# 1) 편집하기\n",
    "\n",
    "# 로그인\n",
    "# cd\n",
    "# nano .env\n",
    "\n",
    "# cntrl+x,y,저장하기\n"
   ]
  },
  {
   "cell_type": "code",
   "execution_count": null,
   "id": "1e066da6-c052-46b0-b1fe-fd3e8a115d31",
   "metadata": {},
   "outputs": [],
   "source": [
    "# 2) 저장형식\n",
    "\n",
    "# 변수명=\"값\"\n",
    "\n",
    "\n",
    "#예)\n",
    "#OPENAI_API_KEY=\"xxxxxxx\"\n"
   ]
  },
  {
   "cell_type": "code",
   "execution_count": null,
   "id": "5a08b02b-f463-475f-b5b2-f51484eb53ad",
   "metadata": {},
   "outputs": [],
   "source": [
    "# 2) python에서 \".env\"파일을 환경변수로 읽어들이는 방법\n",
    "\n",
    "\n",
    "from dotenv import load_dotenv\n",
    "load_dotenv(\"/home/사용자아이디/.env\")    # 사용자아이디는 자신의 것으로 변경\n",
    "\n",
    "import os\n",
    "\n",
    "OPENAI_API_KEY = os.getenv('OPENAI_API_KEY')\n",
    "print(OPENAI_API_KEY)"
   ]
  },
  {
   "cell_type": "code",
   "execution_count": null,
   "id": "694c1b8b-58a0-4835-93dc-b7ab2988b78c",
   "metadata": {},
   "outputs": [],
   "source": [
    "# 3) dotenv 모듈 설치하기\n",
    "\n",
    "!pip install load_dotenv"
   ]
  }
 ],
 "metadata": {
  "kernelspec": {
   "display_name": "mymychabot",
   "language": "python",
   "name": "mychabot"
  },
  "language_info": {
   "codemirror_mode": {
    "name": "ipython",
    "version": 3
   },
   "file_extension": ".py",
   "mimetype": "text/x-python",
   "name": "python",
   "nbconvert_exporter": "python",
   "pygments_lexer": "ipython3",
   "version": "3.9.19"
  }
 },
 "nbformat": 4,
 "nbformat_minor": 5
}
