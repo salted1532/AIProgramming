{
 "cells": [
  {
   "cell_type": "markdown",
   "id": "82118341-d6e8-4d2d-bf27-8230fc521c91",
   "metadata": {},
   "source": [
    "# RAG - 1. indexing(OpenAI)\n",
    "\n",
    "> 1) indexing 작업 (문서를 읽어서, vectorstore에 저장하기)\n",
    "> 2) 목적 : langchain기능 사용해보기, web으로 문서파일을 업로드하고, document을 읽어서, split해서, chroma에 추가하는 기능\n",
    "> 3) 확장해보기 : text, pdf등 문서읽기로 확장\n",
    "> 4) 선행작업 : OPENAI_API_KEY 등록후 획득\n"
   ]
  },
  {
   "cell_type": "code",
   "execution_count": 9,
   "id": "aec29ddc-0f68-45c0-811f-19e8ccf657ee",
   "metadata": {},
   "outputs": [],
   "source": [
    "# 1) OPENAI_API_KEY를 먼저 확보하고, \".env\"파일에 저장해두어야 한다.\n",
    "\n",
    "\n",
    "import os\n",
    "from dotenv import load_dotenv\n",
    "\n",
    "load_dotenv(\"/home/mhkwon/.env\")\n",
    "openai_api_key = os.getenv(\"OPENAI_API_KEY\")\n",
    "#print(openai_api_key)"
   ]
  },
  {
   "cell_type": "code",
   "execution_count": 10,
   "id": "230db6b2-07a8-4c05-a89c-44e7d31afc4b",
   "metadata": {},
   "outputs": [],
   "source": [
    "# 2) vdb 저장 경로 및 읽어올 문서의 url\n",
    "\n",
    "VECTORSTORE_PATH = 'chroma_store'\n",
    "\n",
    "DOCUMENT_URL = 'https://www.etnews.com/20240823000244'"
   ]
  },
  {
   "cell_type": "code",
   "execution_count": 11,
   "id": "cd410103-1e77-4c05-89d9-ecd2e0d06121",
   "metadata": {},
   "outputs": [],
   "source": [
    "from langchain_openai import OpenAIEmbeddings\n",
    "\n",
    "\n",
    "embeddings = OpenAIEmbeddings()"
   ]
  },
  {
   "cell_type": "code",
   "execution_count": 12,
   "id": "d4f2e812-d6e2-4362-a0a3-eb850a712fb3",
   "metadata": {},
   "outputs": [],
   "source": [
    "# 3) 문서를 읽어서, 분리해서, 저장하기\n",
    "\n",
    "from langchain_chroma import Chroma\n",
    "from langchain_community.document_loaders import WebBaseLoader\n",
    "\n",
    "from langchain.text_splitter import RecursiveCharacterTextSplitter\n",
    "\n",
    "import json\n",
    "import re\n",
    "\n",
    "vectorstore = Chroma(persist_directory=VECTORSTORE_PATH, embedding_function = embeddings )\n",
    "\n",
    "\n",
    "#### 웹사이트에서 정보를 읽어들이는 함수\n",
    "\n",
    "def load_docs(url=DOCUMENT_URL):\n",
    "    loader = WebBaseLoader(web_paths=(url, ), )\n",
    "    docs = loader.load()\n",
    "    \n",
    "    #print(docs)\n",
    "    return docs\n",
    "\n",
    "\n",
    "#### 문서를 특정 길이(dkfosms 1000바이트)로 쪼개(chunk)는 작업\n",
    "def split(docs):\n",
    "    # Restructure to process the info in chunks\n",
    "    text_splitter = RecursiveCharacterTextSplitter(chunk_size=1000, chunk_overlap=200)\n",
    "    splits = text_splitter.split_documents(docs)\n",
    "    \n",
    "    #print(splits)\n",
    "    cleaned = []\n",
    "    for doc in splits:\n",
    "        #doc.page_content.replace(\"\\n\",\"\")\n",
    "        doc.page_content = re.sub(r\"[\\r\\n\\\\]\",\"\", doc.page_content)\n",
    "        doc.page_content = re.sub(r\"\\t+\",\" \", doc.page_content)\n",
    "        cleaned.append(doc)\n",
    "\n",
    "    return cleaned\n",
    "\n",
    "\n",
    "#### 벡터스토어에 저장하기\n",
    "def store(splits):\n",
    "    vectorstore.add_documents(documents=splits)\n",
    "\n",
    "\n",
    "#### 메인\n",
    "def loadstore(url):\n",
    "    #print('****** url=', url)\n",
    "\n",
    "    docs = load_docs(url)\n",
    "    splits = split(docs)\n",
    "    store(splits)\n",
    "\n",
    "    response_json = {\n",
    "        #\"docs\": docs,\n",
    "        \"splits\" : splits,\n",
    "    }\n",
    "    my_json = json.dumps(response_json, default=str, ensure_ascii=False, indent=8, separators =(\",\\n\", \" = \") )\n",
    "\n",
    "    return my_json\n",
    "\n"
   ]
  },
  {
   "cell_type": "code",
   "execution_count": 13,
   "id": "6dc18f91-11a6-4962-b2d7-bdce80858974",
   "metadata": {},
   "outputs": [
    {
     "data": {
      "text/plain": [
       "'{\\n        \"splits\" = [\\n                \"page_content=\\'카카오브레인, AI 헬스케어 전담 \\'씨엑스알랩\\'으로 분할한다 - 전자신문   로그인회원가입SWIT경제전자모빌리티플랫폼/유통과학정치오피니언뉴스속보SWIT경제전자모빌리티플랫폼/유통과학\\xa0정치오피니언국제전국스포츠특집연재라이프연예포토공연전시생활문화비주얼IT이슈플러스Hot 영상뷰포인트인포그래픽부가서비스ConferenceallshowTV시사용어PDF서비스서비스안내신문구독신청콘텐츠구매초판서비스회원서비스내 스크랩이용안내지면광고안내행사문의디지털광고안내이용약관개인정보취급방침고충처리회사소개전자신문전자신문인터넷연혁CI소개회사위치 플랫폼/유통 플랫폼 카카오브레인, AI 헬스케어 전담 \\'씨엑스알랩\\'으로 분할한다발행일 : 2024-08-23 17:05공유하기페이스북X(트위터)메일URL 복사글자크기 설정가작게가보통가크게〈자료 카카오브레인〉카카오브레인이 인공지능(AI) 기반 헬스케어 전문회사 \\'씨엑스알랩\\'으로 분할한다.카카오브레인은 오는 10월 1일 카카오의 정보기술(IT) 개발 자회사 디케이테크인에 흡수합병된 후 별도 법인 \\'씨엑스알랩\\'으로 물적 분할한다고 23일 공시했다.카카오브레인은 지난 5월 대부분의 사업부문이 카카오 본사에 흡수합병된 후 흉부 엑스레이 판독 보조 AI 기술 중심의 헬스케어 조직만 남아있다. 오는 10월 씨엑스알랩으로 분할된 후 독자적으로 AI 기반 헬스케어 사업을 추진한다.\\' metadata={\\'source\\': \\'https://www.etnews.com/20240823000244\\', \\'title\\': \\\\\"카카오브레인, AI 헬스케어 전담 \\'씨엑스알랩\\'으로 분할한다 - 전자신문\\\\\", \\'description\\': \\'미래를 보는 창 - 전자신문\\', \\'language\\': \\'ko\\'}\",\\n\\n                \"page_content=\\'카카오브레인은 지난 5월 대부분의 사업부문이 카카오 본사에 흡수합병된 후 흉부 엑스레이 판독 보조 AI 기술 중심의 헬스케어 조직만 남아있다. 오는 10월 씨엑스알랩으로 분할된 후 독자적으로 AI 기반 헬스케어 사업을 추진한다.카카오는 \\'선택과 집중\\'을 기조로 계열사 통합 등을 통해 사업 경쟁력을 강화하고, 경영 효율화를 진행하는 차원이라고 설명했다.카카오 관계자는 “카카오브레인의 흉부 엑스레이 판독 관련 AI 기반 헬스케어 사업 부문은 새 비즈니스 기회를 모색하기 위해 물적 분할 후 법인을 신설할 예정”이라면서 “내부적으로 스핀아웃하는 방안을 검토하고 있다”고 밝혔다.변상근 기자 sgbyun@etnews.comAI 변상근 기자기사 더보기배달 성수기 왔다…배달 3사 마케팅 대전 펼쳐  플랫폼/유통 많이 본 기사1\\'주사율 한계 돌파\\' 삼성D, 세계 첫 500Hz 패널 개발2현대차, 차세대 아이오닉5에 구글맵 첫 탑재3“中 반도체 설비 투자, 내년 꺾인다…韓 소부장도 영향권”4\\'각형 배터리\\' 수요 급증…이노메트리, 특화 검사로 공략5MS, 사무용 SW \\'아웃룩·팀즈\\' 수 시간 접속 장애 6기계연, \\'생산성 6.5배\\' 늘리는 600㎜ 대면적 반도체 패키징 기술 실용화7네이버멤버십 플러스 가입자, 넷플릭스 무료로 본다8\\'아이폰17 에어\\' 어떻길래?… “잘 안 팔릴 것”9KT 28일 인사·조직개편 유력…슬림화로 AI 시장대응속도 강화10[뉴스의 눈]삼성 위기론 속 법정서 심경 밝힌 이재용 회장주요 행사 ❯나만의 AI 전문가 고용하기:Claude, GPTs, API 활용 Agentic Workflow 구축 1-day 워크숍K-클라우드 네이티브 서밋 2024\\' metadata={\\'source\\': \\'https://www.etnews.com/20240823000244\\', \\'title\\': \\\\\"카카오브레인, AI 헬스케어 전담 \\'씨엑스알랩\\'으로 분할한다 - 전자신문\\\\\", \\'description\\': \\'미래를 보는 창 - 전자신문\\', \\'language\\': \\'ko\\'}\",\\n\\n                \"page_content=\\'주요 행사 ❯나만의 AI 전문가 고용하기:Claude, GPTs, API 활용 Agentic Workflow 구축 1-day 워크숍K-클라우드 네이티브 서밋 2024디지털 전환 시대의 새로운 보안 패러다임: SASE 기술 트렌드와 제로 트러스트 업무 환경 구현2024 시큐어 스페이스 서밋AI에이전트가 가져올비즈니스 변화와 기업의 대응생성형 AI로 한단계 진화하는 AICC : 고객 경험과 생산성 향상을 동시에진화하는 ERP, Copilot과 함께하는 Dynamics 365 Finance & OperationsChatGPT(GPT4o)와 Tableau를 활용한‘프로 마케터’ 되기 1-day 워크숍BIZPLUS[올쇼TV] 생성형 AI로 한 단계 진화하는 AICC-고객 경험과 생산성 향상을 동시에 12월 5일 생방송\\\\\"SASE 기술 트렌드와 제로 트러스트 업무 환경 구현” 11월 27일 생방송[올쇼TV] Horizon과 Workspace ONE으로 구축하는 미래형 가상화와 디바이스 관리 11월 27일 생방송“AI 에이전트가 가져올 비즈니스 변화와 기업의 대응” 세미나 12월 5일 개최HOT 영상 ❯현역 피하려고 105kg까지 불린 20대 남성햄스터 때문에 비행기가 4일 동안 멈춘 사연AI 로봇 투입한 BMW…작업속도 \\'4배\\' 증가차 부수고 시민 위협한 20대 음주 운전자뉴스속보SWIT경제전자모빌리티플랫폼/유통과학\\xa0정치오피니언국제전국스포츠특집연재라이프연예포토공연전시생활문화비주얼IT이슈플러스Hot 영상뷰포인트인포그래픽\\' metadata={\\'source\\': \\'https://www.etnews.com/20240823000244\\', \\'title\\': \\\\\"카카오브레인, AI 헬스케어 전담 \\'씨엑스알랩\\'으로 분할한다 - 전자신문\\\\\", \\'description\\': \\'미래를 보는 창 - 전자신문\\', \\'language\\': \\'ko\\'}\",\\n\\n                \"page_content=\\'차 부수고 시민 위협한 20대 음주 운전자뉴스속보SWIT경제전자모빌리티플랫폼/유통과학\\xa0정치오피니언국제전국스포츠특집연재라이프연예포토공연전시생활문화비주얼IT이슈플러스Hot 영상뷰포인트인포그래픽부가서비스ConferenceallshowTV시사용어PDF서비스서비스안내신문구독신청콘텐츠구매초판서비스회원서비스내 스크랩이용안내지면광고안내행사문의디지털광고안내이용약관개인정보취급방침고충처리회사소개전자신문전자신문인터넷연혁CI소개회사위치 지면광고안내행사문의디지털광고안내이용약관개인정보취급방침고충처리사이트맵전자신문회사소개주소 : 서울시 서초구 양재대로2길 22-16 호반파크1관대표번호 : 02-2168-9200등록번호 : 서울 아04494등록일자 : 2017년 04월 27일사업자명 : 전자신문인터넷사업자번호 : 107-81-80959발행·편집인: 심규호청소년보호책임자: 김인기Copyright © Electronic Times Internet. All Rights Reserved.\\' metadata={\\'source\\': \\'https://www.etnews.com/20240823000244\\', \\'title\\': \\\\\"카카오브레인, AI 헬스케어 전담 \\'씨엑스알랩\\'으로 분할한다 - 전자신문\\\\\", \\'description\\': \\'미래를 보는 창 - 전자신문\\', \\'language\\': \\'ko\\'}\"\\n        ]\\n}'"
      ]
     },
     "execution_count": 13,
     "metadata": {},
     "output_type": "execute_result"
    }
   ],
   "source": [
    "# 웹을 읽어서, vdb에 저장한 내용 확인하기\n",
    "\n",
    "\n",
    "response = loadstore(DOCUMENT_URL)\n",
    "response\n"
   ]
  },
  {
   "cell_type": "raw",
   "id": "208968c1-a1fc-41c7-a371-dc845f13a60b",
   "metadata": {},
   "source": [
    "\n",
    "# 위의 작업을 마치면, 다음과 같이 sqlite파일이 만들어지고, 아래 같이 확인해보자.\n",
    "\n",
    "\n",
    "##########################################################\n",
    "#  Chroma\n",
    "# web으로 문서파일을 업로드하고, document을 읽어서, split해서, chroma에 추가하는 모듈\n",
    "#\n",
    "# folder : VECTORSTORE_PATH\n",
    "# ls -l VECTORSTORE_PATH/\n",
    "# -rw-r--r-- 1 mhkwon mhkwon 581632  8월 23 23:05 chroma.sqlite3\n",
    "\n",
    "# 1) show tables\n",
    "# sqlite> .tables\n",
    "# collection_metadata                embedding_metadata               \n",
    "# collections                        embeddings                       \n",
    "# databases                          embeddings_queue                 \n",
    "# embedding_fulltext_search          max_seq_id                       \n",
    "# embedding_fulltext_search_config   migrations                       \n",
    "# embedding_fulltext_search_content  segment_metadata                 \n",
    "# embedding_fulltext_search_data     segments                         \n",
    "# embedding_fulltext_search_docsize  tenants                          \n",
    "# embedding_fulltext_search_idx\n",
    "\n",
    "\n",
    "# 2) desc;\n",
    "#.schema databases\n",
    "#CREATE TABLE databases (\n",
    "#    id TEXT PRIMARY KEY, -- unique globally\n",
    "#    name TEXT NOT NULL, -- unique per tenant\n",
    "#    tenant_id TEXT NOT NULL REFERENCES tenants(id) ON DELETE CASCADE,\n",
    "#    UNIQUE (tenant_id, name) -- Ensure that a tenant has only one database with a given name\n",
    "#);\n",
    "##########################################################"
   ]
  },
  {
   "cell_type": "markdown",
   "id": "e82f08a8-3a7f-477c-9e2c-5fd02f0d3fba",
   "metadata": {},
   "source": [
    "\n",
    "# 2단계 - 검색(query) 단계\n",
    "\n"
   ]
  },
  {
   "cell_type": "code",
   "execution_count": 14,
   "id": "3d4cf2d8-22f3-4538-b74a-b24d6614b20e",
   "metadata": {},
   "outputs": [],
   "source": [
    "\n",
    "from langchain_chroma import Chroma\n",
    "\n",
    "#저장된 vectorstore을 읽어들인다.\n",
    "\n",
    "vectordb = Chroma(persist_directory=VECTORSTORE_PATH, embedding_function=embeddings)"
   ]
  },
  {
   "cell_type": "code",
   "execution_count": 21,
   "id": "17c01ef4-3f58-4fa7-9a17-ee001b7244e3",
   "metadata": {},
   "outputs": [],
   "source": [
    "# 다음 문장과 유사한 문장을 저장된 vdb에서 찾아낸다.\n",
    "\n",
    "prompt = '미래형 가상화와 디바이스 관리는 무엇인가?'\n",
    "\n",
    "search = vectordb.similarity_search_with_score(prompt)"
   ]
  },
  {
   "cell_type": "code",
   "execution_count": 22,
   "id": "bbb20bd7-91e1-4eb8-9ffd-294a49f52716",
   "metadata": {},
   "outputs": [
    {
     "data": {
      "text/plain": [
       "[(Document(metadata={'description': '미래를 보는 창 - 전자신문', 'language': 'ko', 'source': 'https://www.etnews.com/20240823000244', 'title': \"카카오브레인, AI 헬스케어 전담 '씨엑스알랩'으로 분할한다 - 전자신문\"}, page_content='주요 행사 ❯나만의 AI 전문가 고용하기:Claude, GPTs, API 활용 Agentic Workflow 구축 1-day 워크숍K-클라우드 네이티브 서밋 2024디지털 전환 시대의 새로운 보안 패러다임: SASE 기술 트렌드와 제로 트러스트 업무 환경 구현2024 시큐어 스페이스 서밋AI에이전트가 가져올비즈니스 변화와 기업의 대응생성형 AI로 한단계 진화하는 AICC : 고객 경험과 생산성 향상을 동시에진화하는 ERP, Copilot과 함께하는 Dynamics 365 Finance & OperationsChatGPT(GPT4o)와 Tableau를 활용한‘프로 마케터’ 되기 1-day 워크숍BIZPLUS[올쇼TV] 생성형 AI로 한 단계 진화하는 AICC-고객 경험과 생산성 향상을 동시에 12월 5일 생방송\"SASE 기술 트렌드와 제로 트러스트 업무 환경 구현” 11월 27일 생방송[올쇼TV] Horizon과 Workspace ONE으로 구축하는 미래형 가상화와 디바이스 관리 11월 27일 생방송“AI 에이전트가 가져올 비즈니스 변화와 기업의 대응” 세미나 12월 5일 개최HOT 영상 ❯현역 피하려고 105kg까지 불린 20대 남성햄스터 때문에 비행기가 4일 동안 멈춘 사연AI 로봇 투입한 BMW…작업속도 \\'4배\\' 증가차 부수고 시민 위협한 20대 음주 운전자뉴스속보SWIT경제전자모빌리티플랫폼/유통과학\\xa0정치오피니언국제전국스포츠특집연재라이프연예포토공연전시생활문화비주얼IT이슈플러스Hot 영상뷰포인트인포그래픽'),\n",
       "  0.35520342525834936),\n",
       " (Document(metadata={'description': '미래를 보는 창 - 전자신문', 'language': 'ko', 'source': 'https://www.etnews.com/20240823000244', 'title': \"카카오브레인, AI 헬스케어 전담 '씨엑스알랩'으로 분할한다 - 전자신문\"}, page_content='주요 행사 ❯나만의 AI 전문가 고용하기:Claude, GPTs, API 활용 Agentic Workflow 구축 1-day 워크숍K-클라우드 네이티브 서밋 2024디지털 전환 시대의 새로운 보안 패러다임: SASE 기술 트렌드와 제로 트러스트 업무 환경 구현2024 시큐어 스페이스 서밋AI에이전트가 가져올비즈니스 변화와 기업의 대응생성형 AI로 한단계 진화하는 AICC : 고객 경험과 생산성 향상을 동시에진화하는 ERP, Copilot과 함께하는 Dynamics 365 Finance & OperationsChatGPT(GPT4o)와 Tableau를 활용한‘프로 마케터’ 되기 1-day 워크숍BIZPLUS[올쇼TV] 생성형 AI로 한 단계 진화하는 AICC-고객 경험과 생산성 향상을 동시에 12월 5일 생방송\"SASE 기술 트렌드와 제로 트러스트 업무 환경 구현” 11월 27일 생방송[올쇼TV] Horizon과 Workspace ONE으로 구축하는 미래형 가상화와 디바이스 관리 11월 27일 생방송“AI 에이전트가 가져올 비즈니스 변화와 기업의 대응” 세미나 12월 5일 개최HOT 영상 ❯현역 피하려고 105kg까지 불린 20대 남성햄스터 때문에 비행기가 4일 동안 멈춘 사연AI 로봇 투입한 BMW…작업속도 \\'4배\\' 증가차 부수고 시민 위협한 20대 음주 운전자뉴스속보SWIT경제전자모빌리티플랫폼/유통과학\\xa0정치오피니언국제전국스포츠특집연재라이프연예포토공연전시생활문화비주얼IT이슈플러스Hot 영상뷰포인트인포그래픽'),\n",
       "  0.35520342525834936),\n",
       " (Document(metadata={'description': '미래를 보는 창 - 전자신문', 'language': 'ko', 'source': 'https://www.etnews.com/20240823000244', 'title': \"카카오브레인, AI 헬스케어 전담 '씨엑스알랩'으로 분할한다 - 전자신문\"}, page_content=\"카카오브레인은 지난 5월 대부분의 사업부문이 카카오 본사에 흡수합병된 후 흉부 엑스레이 판독 보조 AI 기술 중심의 헬스케어 조직만 남아있다. 오는 10월 씨엑스알랩으로 분할된 후 독자적으로 AI 기반 헬스케어 사업을 추진한다.카카오는 '선택과 집중'을 기조로 계열사 통합 등을 통해 사업 경쟁력을 강화하고, 경영 효율화를 진행하는 차원이라고 설명했다.카카오 관계자는 “카카오브레인의 흉부 엑스레이 판독 관련 AI 기반 헬스케어 사업 부문은 새 비즈니스 기회를 모색하기 위해 물적 분할 후 법인을 신설할 예정”이라면서 “내부적으로 스핀아웃하는 방안을 검토하고 있다”고 밝혔다.변상근 기자 sgbyun@etnews.comAI 변상근 기자기사 더보기배달 성수기 왔다…배달 3사 마케팅 대전 펼쳐  플랫폼/유통 많이 본 기사1'주사율 한계 돌파' 삼성D, 세계 첫 500Hz 패널 개발2현대차, 차세대 아이오닉5에 구글맵 첫 탑재3“中 반도체 설비 투자, 내년 꺾인다…韓 소부장도 영향권”4'각형 배터리' 수요 급증…이노메트리, 특화 검사로 공략5MS, 사무용 SW '아웃룩·팀즈' 수 시간 접속 장애 6네이버멤버십 플러스 가입자, 넷플릭스 무료로 본다7'아이폰17 에어' 어떻길래?… “잘 안 팔릴 것”8KT 28일 인사·조직개편 유력…슬림화로 AI 시장대응속도 강화9[뉴스의 눈]삼성 위기론 속 법정서 심경 밝힌 이재용 회장10배달 치킨 가격 또 오른다…프랜차이즈 '이중가격제' 논란주요 행사 ❯나만의 AI 전문가 고용하기:Claude, GPTs, API 활용 Agentic Workflow 구축 1-day 워크숍K-클라우드 네이티브 서밋 2024디지털 전환 시대의 새로운 보안 패러다임: SASE 기술 트렌드와 제로 트러스트 업무 환경 구현\"),\n",
       "  0.36967590331384925),\n",
       " (Document(metadata={'description': '미래를 보는 창 - 전자신문', 'language': 'ko', 'source': 'https://www.etnews.com/20240823000244', 'title': \"카카오브레인, AI 헬스케어 전담 '씨엑스알랩'으로 분할한다 - 전자신문\"}, page_content='차 부수고 시민 위협한 20대 음주 운전자뉴스속보SWIT경제전자모빌리티플랫폼/유통과학\\xa0정치오피니언국제전국스포츠특집연재라이프연예포토공연전시생활문화비주얼IT이슈플러스Hot 영상뷰포인트인포그래픽부가서비스ConferenceallshowTV시사용어PDF서비스서비스안내신문구독신청콘텐츠구매초판서비스회원서비스내 스크랩이용안내지면광고안내행사문의디지털광고안내이용약관개인정보취급방침고충처리회사소개전자신문전자신문인터넷연혁CI소개회사위치 지면광고안내행사문의디지털광고안내이용약관개인정보취급방침고충처리사이트맵전자신문회사소개주소 : 서울시 서초구 양재대로2길 22-16 호반파크1관대표번호 : 02-2168-9200등록번호 : 서울 아04494등록일자 : 2017년 04월 27일사업자명 : 전자신문인터넷사업자번호 : 107-81-80959발행·편집인: 심규호청소년보호책임자: 김인기Copyright © Electronic Times Internet. All Rights Reserved.'),\n",
       "  0.37669203796792444)]"
      ]
     },
     "execution_count": 22,
     "metadata": {},
     "output_type": "execute_result"
    }
   ],
   "source": [
    "# 아래 결과는 저장된 문서에 가장 유사한 문장을 찾아 낸것이다.\n",
    "# 유사성정도의 수치는 마지막 숫자로, 1.0에 가까울수록 높다.\n",
    "\n",
    "search"
   ]
  },
  {
   "cell_type": "code",
   "execution_count": null,
   "id": "07d1559d-bd84-4da1-ac9d-1924e223ec3c",
   "metadata": {},
   "outputs": [],
   "source": []
  }
 ],
 "metadata": {
  "kernelspec": {
   "display_name": "mymychabot",
   "language": "python",
   "name": "mychabot"
  },
  "language_info": {
   "codemirror_mode": {
    "name": "ipython",
    "version": 3
   },
   "file_extension": ".py",
   "mimetype": "text/x-python",
   "name": "python",
   "nbconvert_exporter": "python",
   "pygments_lexer": "ipython3",
   "version": "3.9.19"
  }
 },
 "nbformat": 4,
 "nbformat_minor": 5
}
