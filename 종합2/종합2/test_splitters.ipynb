{
 "cells": [
  {
   "cell_type": "markdown",
   "id": "983fc410-aee2-4573-aaaa-cb47a36c764d",
   "metadata": {},
   "source": [
    "\n",
    "# RAG - 4. splitter 종류들\n",
    "\n",
    "> 1) 문서와 python source code를 splitter하는 방법 \n",
    "> 2) 목적 : 문서를 길이에 따라, 쪼개는 방법 확인\n",
    "> 3) 확장해보기 : \n",
    "> 4) 선행작업 : \n",
    "\n",
    "> UPDATE : 20241106"
   ]
  },
  {
   "cell_type": "code",
   "execution_count": 1,
   "id": "a1c07ad3-28a9-4cf0-a41b-e6e08cdb99df",
   "metadata": {},
   "outputs": [
    {
     "name": "stdout",
     "output_type": "stream",
     "text": [
      "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\n"
     ]
    }
   ],
   "source": [
    "# 1) LANGCHAIN_API_KEY를 먼저 확보하고, \".env\"파일에 저장해두어야 한다.\n",
    "\n",
    "\n",
    "from dotenv import load_dotenv\n",
    "load_dotenv(\"/home/mhkwon/.env\")\n",
    "\n",
    "import os\n",
    "\n",
    "\n",
    "LANGCHAIN_API_KEY = os.getenv('LANGCHAIN_API_KEY')\n",
    "print(LANGCHAIN_API_KEY)"
   ]
  },
  {
   "cell_type": "code",
   "execution_count": 3,
   "id": "a4403324-4324-40e4-bd25-f003c6477ae6",
   "metadata": {},
   "outputs": [],
   "source": [
    "# 2) 문서를 읽어들인다.  문서는 각자 업로드해서 사용한다.\n",
    "\n",
    "\n",
    "filepath = \"news_data.txt\"\n",
    "with open(filepath,'r') as f:\n",
    "    hp_book = f.read()\n",
    "\n",
    "\n",
    "# https://www.mk.co.kr/news/economy/11160867\n"
   ]
  },
  {
   "cell_type": "code",
   "execution_count": 7,
   "id": "40dc1cc5-6059-4b22-9547-e4c916772ac0",
   "metadata": {},
   "outputs": [
    {
     "data": {
      "text/plain": [
       "'[속보] 비트코인, 사상 첫 7만4000달러 돌파…이더리움·도지코인도 상승\\n추천 기사\\n이상현 기자 lee.sanghyun@mkinternet.com\\n입력 :  2024-11-06 12:14:18 수정 :  2024-11-06 12:39:50\\n가상화폐 대장주 비트코인이 미국 대통령 선거 당일 처음으로 7만4000달러선을 돌파하며 사상 최고가를 경신했다.\\n6일(현지시간) 미 가상화폐 거래소 코인베이스에 따르면 미 동부 시간 이날 오후 10시 10분(서부 시간 오후 8시 10분) 비트코인 1개당 가격은 24시간 전보다 8.97% 급등한 7만4033달러를 나타냈다.\\n비트코인은 지난 3월 13일 기록했던 7만3800달러대를 뛰어넘으며 이날 사상 처음 7만4000달러대를 돌파했다.\\n이날 한때는 7만4900달러대까지 치솟으며 7만5000달러선 돌파도 목전에 뒀다.\\n비트코인 가격 급등은 미 대선 개표가 시작된 가운데 장 초반 친(親)가상화폐 행보를 보여온 도널드 트럼프 전 대통령의 당선 가능성에 대한 기대감이 반영된 것으로 보인다.\\n같은 시간 시가총액 2위 이더리움은 8.34% 뛰었고, 일론 머스크 테슬라 최고경영자가 띄우는 도지코인은 28% 폭등했다.\\n\\nAP통신에 따르면 한국시간으로 6일 오후 12시 30분 현재 트럼프 전 대통령은 7개 경합주를 제외한 나머지 선거구에서 198명의 선거인단을 확보해 112명을 기록 중인 해리스 부통령에 앞서 있다.'"
      ]
     },
     "execution_count": 7,
     "metadata": {},
     "output_type": "execute_result"
    }
   ],
   "source": [
    "# 원본 파일의 내용, 분리된것과 비교해보자.\n",
    "\n",
    "\n",
    "hp_book"
   ]
  },
  {
   "cell_type": "markdown",
   "id": "9a3e9c80-6a99-4c63-b3f4-97e4cf46177c",
   "metadata": {},
   "source": [
    "# 3.1) Character Text Splitter\n",
    "# 길이 단위로 분리, 중복(겹치는)되는 길이를 체크 해보자."
   ]
  },
  {
   "cell_type": "code",
   "execution_count": 4,
   "id": "fb3c016b-8cce-4745-a218-0dec41046d41",
   "metadata": {},
   "outputs": [
    {
     "name": "stderr",
     "output_type": "stream",
     "text": [
      "Created a chunk of size 589, which is longer than the specified 200\n"
     ]
    },
    {
     "data": {
      "text/plain": [
       "[Document(metadata={}, page_content='[속보] 비트코인, 사상 첫 7만4000달러 돌파…이더리움·도지코인도 상승\\n추천 기사\\n이상현 기자 lee.sanghyun@mkinternet.com\\n입력 :  2024-11-06 12:14:18 수정 :  2024-11-06 12:39:50\\n가상화폐 대장주 비트코인이 미국 대통령 선거 당일 처음으로 7만4000달러선을 돌파하며 사상 최고가를 경신했다.\\n6일(현지시간) 미 가상화폐 거래소 코인베이스에 따르면 미 동부 시간 이날 오후 10시 10분(서부 시간 오후 8시 10분) 비트코인 1개당 가격은 24시간 전보다 8.97% 급등한 7만4033달러를 나타냈다.\\n비트코인은 지난 3월 13일 기록했던 7만3800달러대를 뛰어넘으며 이날 사상 처음 7만4000달러대를 돌파했다.\\n이날 한때는 7만4900달러대까지 치솟으며 7만5000달러선 돌파도 목전에 뒀다.\\n비트코인 가격 급등은 미 대선 개표가 시작된 가운데 장 초반 친(親)가상화폐 행보를 보여온 도널드 트럼프 전 대통령의 당선 가능성에 대한 기대감이 반영된 것으로 보인다.\\n같은 시간 시가총액 2위 이더리움은 8.34% 뛰었고, 일론 머스크 테슬라 최고경영자가 띄우는 도지코인은 28% 폭등했다.'),\n",
       " Document(metadata={}, page_content='AP통신에 따르면 한국시간으로 6일 오후 12시 30분 현재 트럼프 전 대통령은 7개 경합주를 제외한 나머지 선거구에서 198명의 선거인단을 확보해 112명을 기록 중인 해리스 부통령에 앞서 있다.')]"
      ]
     },
     "execution_count": 4,
     "metadata": {},
     "output_type": "execute_result"
    }
   ],
   "source": [
    "\n",
    "\n",
    "from langchain.text_splitter import CharacterTextSplitter\n",
    "\n",
    "def len_func(text):\n",
    "    return len(text)\n",
    "\n",
    "text_splitter = CharacterTextSplitter(\n",
    "    separator=\"\\n\\n\",\n",
    "    #separators=[\"\\n\\n\",\"\\n\", \" \"],  # illegal\n",
    "    chunk_size = 200,   # 부분 문서 크기\n",
    "    chunk_overlap = 100,  # 겹치는 부분\n",
    "    length_function = len_func,\n",
    "    is_separator_regex= False)\n",
    "\n",
    "\n",
    "para_list = text_splitter.create_documents(texts = [hp_book])\n",
    "para_list[:2]\n"
   ]
  },
  {
   "cell_type": "code",
   "execution_count": 5,
   "id": "e7dcbea5-7d48-4dfd-b996-aef15380c780",
   "metadata": {},
   "outputs": [
    {
     "data": {
      "text/plain": [
       "[Document(metadata={}, page_content='[속보] 비트코인, 사상 첫 7만4000달러 돌파…이더리움·도지코인도 상승\\n추천 기사\\n이상현 기자 lee.sanghyun@mkinternet.com\\n입력 :  2024-11-06 12:14:18 수정 :  2024-11-06 12:39:50\\n가상화폐 대장주 비트코인이 미국 대통령 선거 당일 처음으로 7만4000달러선을 돌파하며 사상 최고가를 경신했다.\\n6일(현지시간) 미 가상화폐 거래소 코인베이스에 따르면 미 동부 시간 이날 오후 10시 10분(서부 시간 오후 8시 10분) 비트코인 1개당 가격은 24시간 전보다 8.97% 급등한 7만4033달러를 나타냈다.\\n비트코인은 지난 3월 13일 기록했던 7만3800달러대를 뛰어넘으며 이날 사상 처음 7만4000달러대를 돌파했다.\\n이날 한때는 7만4900달러대까지 치솟으며 7만5000달러선 돌파도 목전에 뒀다.\\n비트코인 가격 급등은 미 대선 개표가 시작된 가운데 장 초반 친(親)가상화폐 행보를 보여온 도널드 트럼프 전 대통령의 당선 가능성에 대한 기대감이 반영된 것으로 보인다.\\n같은 시간 시가총액 2위 이더리움은 8.34% 뛰었고, 일론 머스크 테슬라 최고경영자가 띄우는 도지코인은 28% 폭등했다.'),\n",
       " Document(metadata={}, page_content='AP통신에 따르면 한국시간으로 6일 오후 12시 30분 현재 트럼프 전 대통령은 7개 경합주를 제외한 나머지 선거구에서 198명의 선거인단을 확보해 112명을 기록 중인 해리스 부통령에 앞서 있다.')]"
      ]
     },
     "execution_count": 5,
     "metadata": {},
     "output_type": "execute_result"
    }
   ],
   "source": [
    "para_list"
   ]
  },
  {
   "cell_type": "code",
   "execution_count": 8,
   "id": "4c916885-86a7-4f65-bc2b-3cb5279312e6",
   "metadata": {},
   "outputs": [
    {
     "data": {
      "text/plain": [
       "{'source': 'news_data.txt'}"
      ]
     },
     "execution_count": 8,
     "metadata": {},
     "output_type": "execute_result"
    }
   ],
   "source": [
    "first_chunk = para_list[0]\n",
    "\n",
    "first_chunk.metadata = {\"source\":filepath}\n",
    "first_chunk.metadata"
   ]
  },
  {
   "cell_type": "code",
   "execution_count": 9,
   "id": "a1753aaa-4034-4f10-875e-75cf1e465885",
   "metadata": {},
   "outputs": [
    {
     "data": {
      "text/plain": [
       "[Document(metadata={'source': 'news_data.txt'}, page_content='[속보] 비트코인, 사상 첫 7만4000달러 돌파…이더리움·도지코인도 상승\\n추천 기사\\n이상현 기자 lee.sanghyun@mkinternet.com\\n입력 :  2024-11-06 12:14:18 수정 :  2024-11-06 12:39:50\\n가상화폐 대장주 비트코인이 미국 대통령 선거 당일 처음으로 7만4000달러선을 돌파하며 사상 최고가를 경신했다.\\n6일(현지시간) 미 가상화폐 거래소 코인베이스에 따르면 미 동부 시간 이날 오후 10시 10분(서부 시간 오후 8시 10분) 비트코인 1개당 가격은 24시간 전보다 8.97% 급등한 7만4033달러를 나타냈다.\\n비트코인은 지난 3월 13일 기록했던 7만3800달러대를 뛰어넘으며 이날 사상 처음 7만4000달러대를 돌파했다.\\n이날 한때는 7만4900달러대까지 치솟으며 7만5000달러선 돌파도 목전에 뒀다.\\n비트코인 가격 급등은 미 대선 개표가 시작된 가운데 장 초반 친(親)가상화폐 행보를 보여온 도널드 트럼프 전 대통령의 당선 가능성에 대한 기대감이 반영된 것으로 보인다.\\n같은 시간 시가총액 2위 이더리움은 8.34% 뛰었고, 일론 머스크 테슬라 최고경영자가 띄우는 도지코인은 28% 폭등했다.'),\n",
       " Document(metadata={}, page_content='AP통신에 따르면 한국시간으로 6일 오후 12시 30분 현재 트럼프 전 대통령은 7개 경합주를 제외한 나머지 선거구에서 198명의 선거인단을 확보해 112명을 기록 중인 해리스 부통령에 앞서 있다.')]"
      ]
     },
     "execution_count": 9,
     "metadata": {},
     "output_type": "execute_result"
    }
   ],
   "source": [
    "para_list"
   ]
  },
  {
   "cell_type": "markdown",
   "id": "c67f15d9-d774-4dc7-8474-d9f65e6380c8",
   "metadata": {},
   "source": [
    "\n",
    "# 3.2) Recursive Character Splitter\n",
    "\n",
    "# 문단단위로 분리, 다음 분리자까지"
   ]
  },
  {
   "cell_type": "code",
   "execution_count": 8,
   "id": "4e4376bb-8c31-4ae1-82b3-85f4aa44d264",
   "metadata": {},
   "outputs": [],
   "source": [
    "\n",
    "\n",
    "from langchain.text_splitter import RecursiveCharacterTextSplitter\n",
    "\n",
    "text_splitter = RecursiveCharacterTextSplitter(\n",
    "    separators=[\"\\n\\n\",\"\\n\", \" \"],\n",
    "    chunk_size = 200,\n",
    "    chunk_overlap = 100,\n",
    "    length_function = len_func,\n",
    "    is_separator_regex=False\n",
    ")\n",
    "\n",
    "chunk_list = text_splitter.create_documents(texts = [hp_book])"
   ]
  },
  {
   "cell_type": "code",
   "execution_count": 9,
   "id": "905f5d94-94aa-4881-84d5-f2c0fd092452",
   "metadata": {},
   "outputs": [
    {
     "data": {
      "text/plain": [
       "[Document(metadata={}, page_content='[속보] 비트코인, 사상 첫 7만4000달러 돌파…이더리움·도지코인도 상승\\n추천 기사\\n이상현 기자 lee.sanghyun@mkinternet.com\\n입력 :  2024-11-06 12:14:18 수정 :  2024-11-06 12:39:50\\n가상화폐 대장주 비트코인이 미국 대통령 선거 당일 처음으로 7만4000달러선을 돌파하며 사상 최고가를 경신했다.'),\n",
       " Document(metadata={}, page_content='가상화폐 대장주 비트코인이 미국 대통령 선거 당일 처음으로 7만4000달러선을 돌파하며 사상 최고가를 경신했다.\\n6일(현지시간) 미 가상화폐 거래소 코인베이스에 따르면 미 동부 시간 이날 오후 10시 10분(서부 시간 오후 8시 10분) 비트코인 1개당 가격은 24시간 전보다 8.97% 급등한 7만4033달러를 나타냈다.'),\n",
       " Document(metadata={}, page_content='비트코인은 지난 3월 13일 기록했던 7만3800달러대를 뛰어넘으며 이날 사상 처음 7만4000달러대를 돌파했다.\\n이날 한때는 7만4900달러대까지 치솟으며 7만5000달러선 돌파도 목전에 뒀다.'),\n",
       " Document(metadata={}, page_content='이날 한때는 7만4900달러대까지 치솟으며 7만5000달러선 돌파도 목전에 뒀다.\\n비트코인 가격 급등은 미 대선 개표가 시작된 가운데 장 초반 친(親)가상화폐 행보를 보여온 도널드 트럼프 전 대통령의 당선 가능성에 대한 기대감이 반영된 것으로 보인다.'),\n",
       " Document(metadata={}, page_content='비트코인 가격 급등은 미 대선 개표가 시작된 가운데 장 초반 친(親)가상화폐 행보를 보여온 도널드 트럼프 전 대통령의 당선 가능성에 대한 기대감이 반영된 것으로 보인다.\\n같은 시간 시가총액 2위 이더리움은 8.34% 뛰었고, 일론 머스크 테슬라 최고경영자가 띄우는 도지코인은 28% 폭등했다.'),\n",
       " Document(metadata={}, page_content='AP통신에 따르면 한국시간으로 6일 오후 12시 30분 현재 트럼프 전 대통령은 7개 경합주를 제외한 나머지 선거구에서 198명의 선거인단을 확보해 112명을 기록 중인 해리스 부통령에 앞서 있다.')]"
      ]
     },
     "execution_count": 9,
     "metadata": {},
     "output_type": "execute_result"
    }
   ],
   "source": [
    "chunk_list"
   ]
  },
  {
   "cell_type": "code",
   "execution_count": 11,
   "id": "28f563a3-809c-4d1e-802c-46c62fe2773e",
   "metadata": {},
   "outputs": [
    {
     "name": "stderr",
     "output_type": "stream",
     "text": [
      "Created a chunk of size 573, which is longer than the specified 200\n"
     ]
    },
    {
     "data": {
      "text/plain": [
       "[Document(metadata={}, page_content='[속보] 비트코인, 사상 첫 7만4000달러 돌파…이더리움·도지코인도 상승\\n추천 기사\\n이상현 기자 lee.sanghyun@mkinternet.com\\n입력 :  2024-11-06 12:14:18 수정 :  2024-11-06 12:39:50\\n가상화폐 대장주 비트코인이 미국 대통령 선거 당일 처음으로 7만4000달러선을 돌파하며 사상 최고가를 경신했다.\\n6일(현지시간) 미 가상화폐 거래소 코인베이스에 따르면 미 동부 시간 이날 오후 10시 10분(서부 시간 오후 8시 10분) 비트코인 1개당 가격은 24시간 전보다 8.97% 급등한 7만4033달러를 나타냈다.\\n비트코인은 지난 3월 13일 기록했던 7만3800달러대를 뛰어넘으며 이날 사상 처음 7만4000달러대를 돌파했다.\\n이날 한때는 7만4900달러대까지 치솟으며 7만5000달러선 돌파도 목전에 뒀다.\\n비트코인 가격 급등은 미 대선 개표가 시작된 가운데 장 초반 친(親)가상화폐 행보를 보여온 도널드 트럼프 전 대통령의 당선 가능성에 대한 기대감이 반영된 것으로 보인다.\\n같은 시간 시가총액 2위 이더리움은 8.34% 뛰었고, 일론 머스크 테슬라 최고경영자가 띄우는 도지코인은 28% 폭등했다.'),\n",
       " Document(metadata={}, page_content='AP통신에 따르면 한국시간으로 6일 오후 12시 30분 현재 트럼프 전 대통령은 7개 경합주를 제외한 나머지 선거구에서 198명의 선거인단을 확보해 112명을 기록 중인 해리스 부통령에 앞서 있다.')]"
      ]
     },
     "execution_count": 11,
     "metadata": {},
     "output_type": "execute_result"
    }
   ],
   "source": [
    "# token 단위로 분리\n",
    "\n",
    "# Splitting based on the token limit\n",
    "from langchain.text_splitter import CharacterTextSplitter\n",
    "\n",
    "model_id = \"text-embedding-ada-002\" # \"text-embedding-3-small\"  # \"text-embedding-3-large\", \n",
    "\n",
    "text_splitter = CharacterTextSplitter.from_tiktoken_encoder(\n",
    "    separator = \"\\n\\n\",\n",
    "    chunk_size = 200,\n",
    "    chunk_overlap = 100,\n",
    "    is_separator_regex = False,\n",
    "    model_name=model_id,   #used to calculate tokens\n",
    "    encoding_name=model_id\n",
    ")\n",
    "\n",
    "doc_list = text_splitter.create_documents([hp_book])\n",
    "doc_list # returns list of document objects"
   ]
  },
  {
   "cell_type": "code",
   "execution_count": 13,
   "id": "68997b7e-3e8a-4812-8b09-ede5092f946c",
   "metadata": {},
   "outputs": [
    {
     "name": "stderr",
     "output_type": "stream",
     "text": [
      "Created a chunk of size 573, which is longer than the specified 200\n"
     ]
    },
    {
     "data": {
      "text/plain": [
       "['[속보] 비트코인, 사상 첫 7만4000달러 돌파…이더리움·도지코인도 상승\\n추천 기사\\n이상현 기자 lee.sanghyun@mkinternet.com\\n입력 :  2024-11-06 12:14:18 수정 :  2024-11-06 12:39:50\\n가상화폐 대장주 비트코인이 미국 대통령 선거 당일 처음으로 7만4000달러선을 돌파하며 사상 최고가를 경신했다.\\n6일(현지시간) 미 가상화폐 거래소 코인베이스에 따르면 미 동부 시간 이날 오후 10시 10분(서부 시간 오후 8시 10분) 비트코인 1개당 가격은 24시간 전보다 8.97% 급등한 7만4033달러를 나타냈다.\\n비트코인은 지난 3월 13일 기록했던 7만3800달러대를 뛰어넘으며 이날 사상 처음 7만4000달러대를 돌파했다.\\n이날 한때는 7만4900달러대까지 치솟으며 7만5000달러선 돌파도 목전에 뒀다.\\n비트코인 가격 급등은 미 대선 개표가 시작된 가운데 장 초반 친(親)가상화폐 행보를 보여온 도널드 트럼프 전 대통령의 당선 가능성에 대한 기대감이 반영된 것으로 보인다.\\n같은 시간 시가총액 2위 이더리움은 8.34% 뛰었고, 일론 머스크 테슬라 최고경영자가 띄우는 도지코인은 28% 폭등했다.',\n",
       " 'AP통신에 따르면 한국시간으로 6일 오후 12시 30분 현재 트럼프 전 대통령은 7개 경합주를 제외한 나머지 선거구에서 198명의 선거인단을 확보해 112명을 기록 중인 해리스 부통령에 앞서 있다.']"
      ]
     },
     "execution_count": 13,
     "metadata": {},
     "output_type": "execute_result"
    }
   ],
   "source": [
    "\n",
    "line_list = text_splitter.split_text(hp_book)\n",
    "line_list"
   ]
  },
  {
   "cell_type": "markdown",
   "id": "9ff6fd31-d4a7-482e-99fb-24ce90d4ee18",
   "metadata": {},
   "source": [
    "\n",
    "# 4) python source code도 분리해보자.\n"
   ]
  },
  {
   "cell_type": "code",
   "execution_count": 11,
   "id": "f3fc2a85-8326-4819-b2bc-00c255cd54b7",
   "metadata": {},
   "outputs": [],
   "source": [
    "# 원본 소스 코드\n",
    "\n",
    "python_code = \"\"\"def peer_review(article_id):\n",
    "    chat = ChatOpenAI()\n",
    "    loader = ArxivLoader(query=article_id, load_max_docs=2)\n",
    "    data = loader.load()\n",
    "    first_record = data[0]\n",
    "    page_content = first_record.page_content\n",
    "    title = first_record.metadata['Title']\n",
    "    summary = first_record.metadata['Summary']\n",
    "    ''''''''''''\n",
    "    ''''''''''''\n",
    "    return response.content\"\"\"\n"
   ]
  },
  {
   "cell_type": "code",
   "execution_count": 12,
   "id": "390a37ce-3f39-44f7-ab35-25d119d2fc89",
   "metadata": {},
   "outputs": [
    {
     "data": {
      "text/plain": [
       "[Document(metadata={}, page_content='def peer_review(article_id):'),\n",
       " Document(metadata={}, page_content='chat = ChatOpenAI()'),\n",
       " Document(metadata={}, page_content='loader = ArxivLoader(query=article_id,'),\n",
       " Document(metadata={}, page_content='load_max_docs=2)'),\n",
       " Document(metadata={}, page_content='data = loader.load()'),\n",
       " Document(metadata={}, page_content='first_record = data[0]'),\n",
       " Document(metadata={}, page_content='page_content = first_record.page_content'),\n",
       " Document(metadata={}, page_content=\"title = first_record.metadata['Title']\"),\n",
       " Document(metadata={}, page_content=\"summary = first_record.metadata['Summary']\"),\n",
       " Document(metadata={}, page_content=\"''''''''''''\\n    ''''''''''''\"),\n",
       " Document(metadata={}, page_content='return response.content')]"
      ]
     },
     "execution_count": 12,
     "metadata": {},
     "output_type": "execute_result"
    }
   ],
   "source": [
    "from langchain.text_splitter import RecursiveCharacterTextSplitter, Language\n",
    "\n",
    "text_splitter = RecursiveCharacterTextSplitter.from_language(\n",
    "    language=Language.PYTHON,\n",
    "    chunk_size = 50,\n",
    "    chunk_overlap = 10\n",
    ")\n",
    "\n",
    "# 다음 처럼 소스 코드가 분리되어 처리된다.\n",
    "\n",
    "text_splitter.create_documents(texts = [python_code])"
   ]
  },
  {
   "cell_type": "code",
   "execution_count": null,
   "id": "da46f9dd-ce92-42f3-ab05-70fc72488a34",
   "metadata": {},
   "outputs": [],
   "source": []
  }
 ],
 "metadata": {
  "kernelspec": {
   "display_name": "Python 3 (ipykernel)",
   "language": "python",
   "name": "python3"
  },
  "language_info": {
   "codemirror_mode": {
    "name": "ipython",
    "version": 3
   },
   "file_extension": ".py",
   "mimetype": "text/x-python",
   "name": "python",
   "nbconvert_exporter": "python",
   "pygments_lexer": "ipython3",
   "version": "3.9.19"
  }
 },
 "nbformat": 4,
 "nbformat_minor": 5
}
