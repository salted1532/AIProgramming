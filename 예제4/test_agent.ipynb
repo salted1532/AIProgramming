{
 "cells": [
  {
   "cell_type": "code",
   "execution_count": null,
   "id": "21ba33a4-06e5-4ae1-8536-00c74234de1c",
   "metadata": {},
   "outputs": [],
   "source": [
    "\n",
    "# agent  - 유료가입을 해야 된다.\n",
    "\n",
    "\n",
    "# stream 방식의 agent 예제, 잘된다.\n",
    "\n",
    "# 아래에는\n",
    "# 1) openai버전  - 유료가입\n",
    "# 2) antrophic버전  - 유료가입\n",
    "# 3) tavility로 직접 호출 테스트\n"
   ]
  },
  {
   "cell_type": "code",
   "execution_count": 2,
   "id": "b6c8d5e5-594f-4fac-8e23-e7ed40b88d0b",
   "metadata": {},
   "outputs": [
    {
     "name": "stdout",
     "output_type": "stream",
     "text": [
      "TAVILY_API_KEY  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\n"
     ]
    }
   ],
   "source": [
    "from dotenv import load_dotenv\n",
    "load_dotenv(\"/home/mhkwon/.env\")\n",
    "\n",
    "import os\n",
    "\n",
    "TAVILY_API_KEY=os.getenv('TAVILY_API_KEY')\n",
    "\n",
    "print('TAVILY_API_KEY ', TAVILY_API_KEY)\n",
    "\n",
    "\n",
    "# 다음 사이트에서 가입등록하여, API KEY를 받아야 한다.\n",
    "# TAVILY_API_KEY\n",
    "# ANTHROPIC_API_KEY\n",
    "# LANGCHAIN_API_KEY"
   ]
  },
  {
   "cell_type": "code",
   "execution_count": null,
   "id": "008ca2f5-3696-43df-8fff-508e1701a151",
   "metadata": {},
   "outputs": [],
   "source": [
    "!pip install -U langchain-community tavily-python"
   ]
  },
  {
   "cell_type": "code",
   "execution_count": 5,
   "id": "70ad2503-68fc-4a7a-bc8c-396b61a3b422",
   "metadata": {},
   "outputs": [
    {
     "name": "stdout",
     "output_type": "stream",
     "text": [
      "{'agent': {'messages': [AIMessage(content='Hello Bob from SF! How can I assist you today?', additional_kwargs={'refusal': None}, response_metadata={'token_usage': {'completion_tokens': 13, 'prompt_tokens': 90, 'total_tokens': 103, 'completion_tokens_details': {'audio_tokens': 0, 'reasoning_tokens': 0, 'accepted_prediction_tokens': 0, 'rejected_prediction_tokens': 0}, 'prompt_tokens_details': {'audio_tokens': 0, 'cached_tokens': 0}}, 'model_name': 'gpt-4-0613', 'system_fingerprint': None, 'finish_reason': 'stop', 'logprobs': None}, id='run-e6acdd12-2a3f-43e8-927b-e8d96983ea5a-0', usage_metadata={'input_tokens': 90, 'output_tokens': 13, 'total_tokens': 103, 'input_token_details': {'audio': 0, 'cache_read': 0}, 'output_token_details': {'audio': 0, 'reasoning': 0}})]}}\n",
      "---- 1 ----\n",
      "{'agent': {'messages': [AIMessage(content='', additional_kwargs={'tool_calls': [{'id': 'call_npX3MiK0bFR6m0juxyLzekJa', 'function': {'arguments': '{\\n  \"query\": \"current weather in San Francisco\"\\n}', 'name': 'tavily_search_results_json'}, 'type': 'function'}], 'refusal': None}, response_metadata={'token_usage': {'completion_tokens': 23, 'prompt_tokens': 118, 'total_tokens': 141, 'completion_tokens_details': {'audio_tokens': 0, 'reasoning_tokens': 0, 'accepted_prediction_tokens': 0, 'rejected_prediction_tokens': 0}, 'prompt_tokens_details': {'audio_tokens': 0, 'cached_tokens': 0}}, 'model_name': 'gpt-4-0613', 'system_fingerprint': None, 'finish_reason': 'tool_calls', 'logprobs': None}, id='run-788e21e9-4dbb-4bd6-ae25-ce6aa3bcd5d6-0', tool_calls=[{'name': 'tavily_search_results_json', 'args': {'query': 'current weather in San Francisco'}, 'id': 'call_npX3MiK0bFR6m0juxyLzekJa', 'type': 'tool_call'}], usage_metadata={'input_tokens': 118, 'output_tokens': 23, 'total_tokens': 141, 'input_token_details': {'audio': 0, 'cache_read': 0}, 'output_token_details': {'audio': 0, 'reasoning': 0}})]}}\n",
      "---- 2 ----\n",
      "{'tools': {'messages': [ToolMessage(content='[{\"url\": \"https://www.weatherapi.com/\", \"content\": \"{\\'location\\': {\\'name\\': \\'San Francisco\\', \\'region\\': \\'California\\', \\'country\\': \\'United States of America\\', \\'lat\\': 37.775, \\'lon\\': -122.4183, \\'tz_id\\': \\'America/Los_Angeles\\', \\'localtime_epoch\\': 1731077660, \\'localtime\\': \\'2024-11-08 06:54\\'}, \\'current\\': {\\'last_updated_epoch\\': 1731077100, \\'last_updated\\': \\'2024-11-08 06:45\\', \\'temp_c\\': 12.7, \\'temp_f\\': 54.8, \\'is_day\\': 1, \\'condition\\': {\\'text\\': \\'Clear\\', \\'icon\\': \\'//cdn.weatherapi.com/weather/64x64/day/113.png\\', \\'code\\': 1000}, \\'wind_mph\\': 2.5, \\'wind_kph\\': 4.0, \\'wind_degree\\': 100, \\'wind_dir\\': \\'E\\', \\'pressure_mb\\': 1022.0, \\'pressure_in\\': 30.17, \\'precip_mm\\': 0.0, \\'precip_in\\': 0.0, \\'humidity\\': 79, \\'cloud\\': 0, \\'feelslike_c\\': 13.0, \\'feelslike_f\\': 55.3, \\'windchill_c\\': 13.0, \\'windchill_f\\': 55.3, \\'heatindex_c\\': 12.7, \\'heatindex_f\\': 54.8, \\'dewpoint_c\\': 9.5, \\'dewpoint_f\\': 49.1, \\'vis_km\\': 10.0, \\'vis_miles\\': 6.0, \\'uv\\': 0.0, \\'gust_mph\\': 4.7, \\'gust_kph\\': 7.5}}\"}, {\"url\": \"https://www.ventusky.com/san-francisco\", \"content\": \"San Francisco ☀ Weather forecast for 10 days, information from meteorological stations, webcams, sunrise and sunset, wind and precipitation maps for this place ... America/Los_Angeles (UTC-8) / Current time: 08:14 2024/11/06 . Current Weather ; Forecast ; Sun and Moon ; 16 °C ... (07:56 2024/11/06) Weather for the next 24 hours . 09:00 10:00\"}]', name='tavily_search_results_json', id='579f7371-479e-47ee-8a15-169f38d489fd', tool_call_id='call_npX3MiK0bFR6m0juxyLzekJa', artifact={'query': 'current weather in San Francisco', 'follow_up_questions': None, 'answer': None, 'images': [], 'results': [{'title': 'Weather in San Francisco', 'url': 'https://www.weatherapi.com/', 'content': \"{'location': {'name': 'San Francisco', 'region': 'California', 'country': 'United States of America', 'lat': 37.775, 'lon': -122.4183, 'tz_id': 'America/Los_Angeles', 'localtime_epoch': 1731077660, 'localtime': '2024-11-08 06:54'}, 'current': {'last_updated_epoch': 1731077100, 'last_updated': '2024-11-08 06:45', 'temp_c': 12.7, 'temp_f': 54.8, 'is_day': 1, 'condition': {'text': 'Clear', 'icon': '//cdn.weatherapi.com/weather/64x64/day/113.png', 'code': 1000}, 'wind_mph': 2.5, 'wind_kph': 4.0, 'wind_degree': 100, 'wind_dir': 'E', 'pressure_mb': 1022.0, 'pressure_in': 30.17, 'precip_mm': 0.0, 'precip_in': 0.0, 'humidity': 79, 'cloud': 0, 'feelslike_c': 13.0, 'feelslike_f': 55.3, 'windchill_c': 13.0, 'windchill_f': 55.3, 'heatindex_c': 12.7, 'heatindex_f': 54.8, 'dewpoint_c': 9.5, 'dewpoint_f': 49.1, 'vis_km': 10.0, 'vis_miles': 6.0, 'uv': 0.0, 'gust_mph': 4.7, 'gust_kph': 7.5}}\", 'score': 0.9980131, 'raw_content': None}, {'title': 'San Francisco - Weather Forecast Maps - Ventusky', 'url': 'https://www.ventusky.com/san-francisco', 'content': 'San Francisco ☀ Weather forecast for 10 days, information from meteorological stations, webcams, sunrise and sunset, wind and precipitation maps for this place ... America/Los_Angeles (UTC-8) / Current time: 08:14 2024/11/06 . Current Weather ; Forecast ; Sun and Moon ; 16 °C ... (07:56 2024/11/06) Weather for the next 24 hours . 09:00 10:00', 'score': 0.997917, 'raw_content': None}], 'response_time': 3.29})]}}\n",
      "---- 2 ----\n",
      "{'agent': {'messages': [AIMessage(content='The current weather in San Francisco is clear with a temperature of 12.7°C (54.8°F). The wind is coming from the east at a speed of 4.0 kph (2.5 mph). The humidity level is at 79%.', additional_kwargs={'refusal': None}, response_metadata={'token_usage': {'completion_tokens': 55, 'prompt_tokens': 681, 'total_tokens': 736, 'completion_tokens_details': {'audio_tokens': 0, 'reasoning_tokens': 0, 'accepted_prediction_tokens': 0, 'rejected_prediction_tokens': 0}, 'prompt_tokens_details': {'audio_tokens': 0, 'cached_tokens': 0}}, 'model_name': 'gpt-4-0613', 'system_fingerprint': None, 'finish_reason': 'stop', 'logprobs': None}, id='run-d5ea0af6-d43f-4f2c-8e54-4b1de8151cfc-0', usage_metadata={'input_tokens': 681, 'output_tokens': 55, 'total_tokens': 736, 'input_token_details': {'audio': 0, 'cache_read': 0}, 'output_token_details': {'audio': 0, 'reasoning': 0}})]}}\n",
      "---- 2 ----\n"
     ]
    }
   ],
   "source": [
    "# 1) OpenAI로 Agent\n",
    "\n",
    "# Import relevant functionality\n",
    "from langchain_openai import ChatOpenAI\n",
    "#from langchain_community.tools.tavily_search import TavilySearchResults  # OLD\n",
    "from langchain_community.tools import TavilySearchResults\n",
    "from langchain_core.messages import HumanMessage\n",
    "from langgraph.checkpoint.memory import MemorySaver\n",
    "from langgraph.prebuilt import create_react_agent\n",
    "\n",
    "# \n",
    "memory = MemorySaver()\n",
    "\n",
    "model = ChatOpenAI(model=\"gpt-4\")\n",
    "\n",
    "search = TavilySearchResults(max_results=2)\n",
    "tools = [search]\n",
    "\n",
    "# agent생성\n",
    "agent_executor = create_react_agent(model, tools, checkpointer=memory)\n",
    "\n",
    "# agent실행\n",
    "config = {\"configurable\": {\"thread_id\": \"abc123\"}}\n",
    "\n",
    "for chunk in agent_executor.stream(\n",
    "    {\"messages\": [HumanMessage(content=\"hi im bob! and i live in sf\")]}, config\n",
    "):\n",
    "    print(chunk)\n",
    "    print(\"---- 1 ----\")\n",
    "\n",
    "for chunk in agent_executor.stream(\n",
    "    {\"messages\": [HumanMessage(content=\"whats the weather where I live?\")]}, config\n",
    "):\n",
    "    print(chunk)\n",
    "    print(\"---- 2 ----\")"
   ]
  },
  {
   "cell_type": "code",
   "execution_count": 19,
   "id": "18dab428-7b7a-45f7-9a69-43a20050c1b9",
   "metadata": {},
   "outputs": [
    {
     "data": {
      "text/plain": [
       "TavilySearchResults(max_results=2, api_wrapper=FieldInfo(default=PydanticUndefined, default_factory=<class 'langchain_community.utilities.tavily_search.TavilySearchAPIWrapper'>, extra={}))"
      ]
     },
     "execution_count": 19,
     "metadata": {},
     "output_type": "execute_result"
    }
   ],
   "source": [
    "search"
   ]
  },
  {
   "cell_type": "code",
   "execution_count": 3,
   "id": "ccbb8427-2b54-4504-b929-458aafda5af9",
   "metadata": {},
   "outputs": [
    {
     "name": "stdout",
     "output_type": "stream",
     "text": [
      "{'agent': {'messages': [AIMessage(content=\"Hello Bob! Since you didn't ask a specific question, I don't need to use any tools to respond. It's nice to meet you. San Francisco is a wonderful city with lots to see and do. I hope you're enjoying living there. Please let me know if you have any other questions!\", additional_kwargs={}, response_metadata={'id': 'msg_01Va4yykm7Kr8ZzWfn5brnm4', 'model': 'claude-3-sonnet-20240229', 'stop_reason': 'end_turn', 'stop_sequence': None, 'usage': {'input_tokens': 271, 'output_tokens': 65}}, id='run-8ce845d1-943f-4849-896c-c2879679eb8c-0', usage_metadata={'input_tokens': 271, 'output_tokens': 65, 'total_tokens': 336, 'input_token_details': {}})]}}\n",
      "---- 1 ----\n",
      "{'agent': {'messages': [AIMessage(content=[{'text': 'To get the current weather for San Francisco, where you mentioned you live, let me use the search tool:', 'type': 'text'}, {'id': 'toolu_01HeiyS6FiFMCixn44C72quE', 'input': {'query': 'san francisco weather'}, 'name': 'tavily_search_results_json', 'type': 'tool_use'}], additional_kwargs={}, response_metadata={'id': 'msg_012wLdrrZeN4y58HKrrtCYRX', 'model': 'claude-3-sonnet-20240229', 'stop_reason': 'tool_use', 'stop_sequence': None, 'usage': {'input_tokens': 347, 'output_tokens': 83}}, id='run-281b0b28-8aea-49b9-a17e-f39f38ae19cd-0', tool_calls=[{'name': 'tavily_search_results_json', 'args': {'query': 'san francisco weather'}, 'id': 'toolu_01HeiyS6FiFMCixn44C72quE', 'type': 'tool_call'}], usage_metadata={'input_tokens': 347, 'output_tokens': 83, 'total_tokens': 430, 'input_token_details': {}})]}}\n",
      "---- 2 ----\n",
      "{'tools': {'messages': [ToolMessage(content='[{\"url\": \"https://www.weatherapi.com/\", \"content\": \"{\\'location\\': {\\'name\\': \\'San Francisco\\', \\'region\\': \\'California\\', \\'country\\': \\'United States of America\\', \\'lat\\': 37.775, \\'lon\\': -122.4183, \\'tz_id\\': \\'America/Los_Angeles\\', \\'localtime_epoch\\': 1733628673, \\'localtime\\': \\'2024-12-07 19:31\\'}, \\'current\\': {\\'last_updated_epoch\\': 1733628600, \\'last_updated\\': \\'2024-12-07 19:30\\', \\'temp_c\\': 14.4, \\'temp_f\\': 57.9, \\'is_day\\': 0, \\'condition\\': {\\'text\\': \\'Mist\\', \\'icon\\': \\'//cdn.weatherapi.com/weather/64x64/night/143.png\\', \\'code\\': 1030}, \\'wind_mph\\': 6.7, \\'wind_kph\\': 10.8, \\'wind_degree\\': 291, \\'wind_dir\\': \\'WNW\\', \\'pressure_mb\\': 1020.0, \\'pressure_in\\': 30.13, \\'precip_mm\\': 0.0, \\'precip_in\\': 0.0, \\'humidity\\': 75, \\'cloud\\': 75, \\'feelslike_c\\': 13.8, \\'feelslike_f\\': 56.8, \\'windchill_c\\': 13.7, \\'windchill_f\\': 56.6, \\'heatindex_c\\': 13.4, \\'heatindex_f\\': 56.1, \\'dewpoint_c\\': 11.2, \\'dewpoint_f\\': 52.1, \\'vis_km\\': 8.0, \\'vis_miles\\': 4.0, \\'uv\\': 0.0, \\'gust_mph\\': 11.7, \\'gust_kph\\': 18.9}}\"}, {\"url\": \"https://www.sfchronicle.com/weather-forecast/article/bay-area-sf-august-19723443.php\", \"content\": \"San Francisco to bask in late summer warmth as part of August\\'s final weather pattern By Greg Porter , Senior Newsroom Meteorologist Aug 27, 2024 The temperature forecast for Tuesday shows\"}]', name='tavily_search_results_json', id='b922c378-1ed5-417f-9fae-90ae27f4c4f3', tool_call_id='toolu_01HeiyS6FiFMCixn44C72quE', artifact={'query': 'san francisco weather', 'follow_up_questions': None, 'answer': None, 'images': [], 'results': [{'title': 'Weather in San Francisco, CA', 'url': 'https://www.weatherapi.com/', 'content': \"{'location': {'name': 'San Francisco', 'region': 'California', 'country': 'United States of America', 'lat': 37.775, 'lon': -122.4183, 'tz_id': 'America/Los_Angeles', 'localtime_epoch': 1733628673, 'localtime': '2024-12-07 19:31'}, 'current': {'last_updated_epoch': 1733628600, 'last_updated': '2024-12-07 19:30', 'temp_c': 14.4, 'temp_f': 57.9, 'is_day': 0, 'condition': {'text': 'Mist', 'icon': '//cdn.weatherapi.com/weather/64x64/night/143.png', 'code': 1030}, 'wind_mph': 6.7, 'wind_kph': 10.8, 'wind_degree': 291, 'wind_dir': 'WNW', 'pressure_mb': 1020.0, 'pressure_in': 30.13, 'precip_mm': 0.0, 'precip_in': 0.0, 'humidity': 75, 'cloud': 75, 'feelslike_c': 13.8, 'feelslike_f': 56.8, 'windchill_c': 13.7, 'windchill_f': 56.6, 'heatindex_c': 13.4, 'heatindex_f': 56.1, 'dewpoint_c': 11.2, 'dewpoint_f': 52.1, 'vis_km': 8.0, 'vis_miles': 4.0, 'uv': 0.0, 'gust_mph': 11.7, 'gust_kph': 18.9}}\", 'score': 0.9991903, 'raw_content': None}, {'title': \"San Francisco summer is finally in full swing. Here's the forecast\", 'url': 'https://www.sfchronicle.com/weather-forecast/article/bay-area-sf-august-19723443.php', 'content': \"San Francisco to bask in late summer warmth as part of August's final weather pattern By Greg Porter , Senior Newsroom Meteorologist Aug 27, 2024 The temperature forecast for Tuesday shows\", 'score': 0.99858415, 'raw_content': None}], 'response_time': 3.57})]}}\n",
      "---- 2 ----\n",
      "{'agent': {'messages': [AIMessage(content='Based on the search results, the current weather in San Francisco is:\\n\\nTemperature: 57.9°F (14.4°C)\\nConditions: Misty\\nWind: 6.7 mph (10.8 km/h) from the WNW\\nHumidity: 75%\\n\\nThe weather looks fairly mild and typical for San Francisco, with some mist and cool temperatures given its coastal location. Please let me know if you need any other details about the weather where you live!', additional_kwargs={}, response_metadata={'id': 'msg_012XLku9iTiky4M9MeJLyfNk', 'model': 'claude-3-sonnet-20240229', 'stop_reason': 'end_turn', 'stop_sequence': None, 'usage': {'input_tokens': 1016, 'output_tokens': 112}}, id='run-6b519948-fa90-4e99-8ef4-5377054f35cf-0', usage_metadata={'input_tokens': 1016, 'output_tokens': 112, 'total_tokens': 1128, 'input_token_details': {}})]}}\n",
      "---- 2 ----\n"
     ]
    }
   ],
   "source": [
    "# Import relevant functionality\n",
    "from langchain_anthropic import ChatAnthropic\n",
    "#from langchain_community.tools.tavily_search import TavilySearchResults # OLD\n",
    "from langchain_community.tools import TavilySearchResults\n",
    "from langchain_core.messages import HumanMessage\n",
    "from langgraph.checkpoint.memory import MemorySaver\n",
    "from langgraph.prebuilt import create_react_agent\n",
    "\n",
    "# Create the agent\n",
    "memory = MemorySaver()\n",
    "\n",
    "model = ChatAnthropic(model_name=\"claude-3-sonnet-20240229\")\n",
    "\n",
    "search = TavilySearchResults(max_results=2)\n",
    "tools = [search]\n",
    "\n",
    "# agent생성\n",
    "agent_executor = create_react_agent(model, tools, checkpointer=memory)\n",
    "\n",
    "# agent실행\n",
    "config = {\"configurable\": {\"thread_id\": \"abc123\"}}\n",
    "\n",
    "for chunk in agent_executor.stream(\n",
    "    {\"messages\": [HumanMessage(content=\"hi im bob! and i live in sf\")]}, config\n",
    "):\n",
    "    print(chunk)\n",
    "    print(\"---- 1 ----\")\n",
    "\n",
    "for chunk in agent_executor.stream(\n",
    "    {\"messages\": [HumanMessage(content=\"whats the weather where I live?\")]}, config\n",
    "):\n",
    "    print(chunk)\n",
    "    print(\"---- 2 ----\")\n"
   ]
  },
  {
   "cell_type": "code",
   "execution_count": 15,
   "id": "6e8214d5-c3d7-45f4-9185-fa6706fdddb5",
   "metadata": {},
   "outputs": [
    {
     "data": {
      "text/plain": [
       "TavilySearchResults(max_results=2, api_wrapper=FieldInfo(default=PydanticUndefined, default_factory=<class 'langchain_community.utilities.tavily_search.TavilySearchAPIWrapper'>, extra={}))"
      ]
     },
     "execution_count": 15,
     "metadata": {},
     "output_type": "execute_result"
    }
   ],
   "source": [
    "search"
   ]
  },
  {
   "cell_type": "code",
   "execution_count": 2,
   "id": "23ba9904-b16f-4872-8996-9a412b0a952f",
   "metadata": {},
   "outputs": [
    {
     "name": "stdout",
     "output_type": "stream",
     "text": [
      "[{'url': 'https://www.topendsports.com/events/tennis-grand-slam/french-open/winners-men.htm', 'content': \"Here are all the winners of the French Tennis Open men's title since the first tournament in 1925. The recent tournaments have been dominated by Spanish player Rafael Nadal. ... He now has 14 French Open men's singles titles (the last in 2022). See also the Women's Singles Results. Year Winner 2nd Score; 2024: Carlos Alcaraz (Spain) Alexander\"}, {'url': 'https://apnews.com/article/djokovic-ruud-french-open-roland-garros-final-d7bda9f570b010ea48cf8a05b397291e', 'content': 'Novak Djokovic wins his 23rd Grand Slam title by beating Casper Ruud in the French Open final\\nSerbia’s Novak Djokovic celebrates winning the men’s singles final match of the French Open tennis tournament against Norway’s Casper Ruud in three sets, 7-6, (7-1), 6-3, 7-5, at the Roland Garros stadium in Paris, Sunday, June 11, 2023. Serbia’s Novak Djokovic wears the number 23 on his garment for his 23rd Grand Slam Singles title as he kisses the trophy after winning the men’s singles final match of the French Open tennis tournament against Norway’s Casper Ruud in three sets, 7-6, (7-1), 6-3, 7-5, at the Roland Garros stadium in Paris, Sunday, June 11, 2023. Serbia’s Novak Djokovic wears the number 23 on his garment for his 23rd Grand Slam Singles title as he kisses the trophy after winning the men’s singles final match of the French Open tennis tournament against Norway’s Casper Ruud in three sets, 7-6, (7-1), 6-3, 7-5, at the Roland Garros stadium in Paris, Sunday, June 11, 2023. Serbia’s Novak Djokovic wears the number 23 on his garment for his 23rd Grand Slam Singles title as he kisses the trophy after winning the men’s singles final match of the French Open tennis tournament against Norway’s Casper Ruud in three sets, 7-6, (7-1), 6-3, 7-5, at the Roland Garros stadium in Paris, Sunday, June 11, 2023. Serbia’s Novak Djokovic kisses the trophy as he celebrates winning the men’s singles final match of the French Open tennis tournament against Norway’s Casper Ruud in three sets, 7-6, (7-1), 6-3, 7-5, at the Roland Garros stadium in Paris, Sunday, June 11, 2023.'}, {'url': 'https://www.nbcnewyork.com/news/sports/tennis/carlos-alcaraz-21-wins-french-open-in-five-sets-for-third-grand-slam-title/5491160/', 'content': 'Carlos Alcaraz, 21, wins French Open in five sets for third Grand Slam title Alcaraz, who turned 21 last month, is the youngest man to collect major championships on three surfaces.'}, {'url': 'https://www.cnn.com/2024/06/09/sport/french-open-final-mens-final-2024-spt-intl/index.html', 'content': 'Carlos Alcaraz won his third grand slam title and first at the French Open on Sunday, defeating Alexander Zverev 6-3 2-6 5-7 6-1 6-2 in an engrossing contest.. With the victory, the 21-year-old'}, {'url': 'https://www.npr.org/2024/06/09/nx-s1-4997726/carlos-alcaraz-wins-french-open-third-grand-slam-title', 'content': \"PARIS — As Carlos Alcaraz began constructing his comeback in Sunday's French Open final, a 6-3, 2-6, 5-7, 6-1, 6-2 victory over Alexander Zverev for a first championship at Roland Garros and\"}]\n"
     ]
    }
   ],
   "source": [
    "#from langchain_community.tools.tavily_search import TavilySearchResults #OLD\n",
    "from langchain_community.tools import TavilySearchResults\n",
    "\n",
    "#tool = TavilySearchResults(\n",
    "#    max_results=5,\n",
    "#    include_answer=True,\n",
    "#    include_raw_content=True,\n",
    "#    include_images=True,\n",
    "    # search_depth=\"advanced\",\n",
    "    # include_domains = []\n",
    "    # exclude_domains = []\n",
    "#)\n",
    "\n",
    "search = TavilySearchResults(\n",
    "    max_results=5,\n",
    "    include_answer=True,\n",
    "    include_raw_content=True,\n",
    ")\n",
    "#search_results = search.invoke(\"what is the weather in SF\")\n",
    "search_results = search.invoke({'query': 'who won the last french open'})\n",
    "print(search_results)\n",
    "\n",
    "# If we want, we can create other tools.\n",
    "# Once we have all the tools we want, we can put them in a list that we will reference later.\n",
    "tools = [search]"
   ]
  },
  {
   "cell_type": "code",
   "execution_count": 3,
   "id": "ee4323bd-b113-4748-af4f-49f53a01ea4e",
   "metadata": {},
   "outputs": [
    {
     "data": {
      "text/plain": [
       "TavilySearchResults(include_answer=True, include_raw_content=True, api_wrapper=TavilySearchAPIWrapper(tavily_api_key=SecretStr('**********')))"
      ]
     },
     "execution_count": 3,
     "metadata": {},
     "output_type": "execute_result"
    }
   ],
   "source": [
    "search"
   ]
  },
  {
   "cell_type": "code",
   "execution_count": 4,
   "id": "c095f751-b3af-4ff4-8e6b-d672ff620c1b",
   "metadata": {},
   "outputs": [
    {
     "data": {
      "text/plain": [
       "[{'url': 'https://www.topendsports.com/events/tennis-grand-slam/french-open/winners-men.htm',\n",
       "  'content': \"Here are all the winners of the French Tennis Open men's title since the first tournament in 1925. The recent tournaments have been dominated by Spanish player Rafael Nadal. ... He now has 14 French Open men's singles titles (the last in 2022). See also the Women's Singles Results. Year Winner 2nd Score; 2024: Carlos Alcaraz (Spain) Alexander\"},\n",
       " {'url': 'https://apnews.com/article/djokovic-ruud-french-open-roland-garros-final-d7bda9f570b010ea48cf8a05b397291e',\n",
       "  'content': 'Novak Djokovic wins his 23rd Grand Slam title by beating Casper Ruud in the French Open final\\nSerbia’s Novak Djokovic celebrates winning the men’s singles final match of the French Open tennis tournament against Norway’s Casper Ruud in three sets, 7-6, (7-1), 6-3, 7-5, at the Roland Garros stadium in Paris, Sunday, June 11, 2023. Serbia’s Novak Djokovic wears the number 23 on his garment for his 23rd Grand Slam Singles title as he kisses the trophy after winning the men’s singles final match of the French Open tennis tournament against Norway’s Casper Ruud in three sets, 7-6, (7-1), 6-3, 7-5, at the Roland Garros stadium in Paris, Sunday, June 11, 2023. Serbia’s Novak Djokovic wears the number 23 on his garment for his 23rd Grand Slam Singles title as he kisses the trophy after winning the men’s singles final match of the French Open tennis tournament against Norway’s Casper Ruud in three sets, 7-6, (7-1), 6-3, 7-5, at the Roland Garros stadium in Paris, Sunday, June 11, 2023. Serbia’s Novak Djokovic wears the number 23 on his garment for his 23rd Grand Slam Singles title as he kisses the trophy after winning the men’s singles final match of the French Open tennis tournament against Norway’s Casper Ruud in three sets, 7-6, (7-1), 6-3, 7-5, at the Roland Garros stadium in Paris, Sunday, June 11, 2023. Serbia’s Novak Djokovic kisses the trophy as he celebrates winning the men’s singles final match of the French Open tennis tournament against Norway’s Casper Ruud in three sets, 7-6, (7-1), 6-3, 7-5, at the Roland Garros stadium in Paris, Sunday, June 11, 2023.'},\n",
       " {'url': 'https://www.nbcnewyork.com/news/sports/tennis/carlos-alcaraz-21-wins-french-open-in-five-sets-for-third-grand-slam-title/5491160/',\n",
       "  'content': 'Carlos Alcaraz, 21, wins French Open in five sets for third Grand Slam title Alcaraz, who turned 21 last month, is the youngest man to collect major championships on three surfaces.'},\n",
       " {'url': 'https://www.cnn.com/2024/06/09/sport/french-open-final-mens-final-2024-spt-intl/index.html',\n",
       "  'content': 'Carlos Alcaraz won his third grand slam title and first at the French Open on Sunday, defeating Alexander Zverev 6-3 2-6 5-7 6-1 6-2 in an engrossing contest.. With the victory, the 21-year-old'},\n",
       " {'url': 'https://www.npr.org/2024/06/09/nx-s1-4997726/carlos-alcaraz-wins-french-open-third-grand-slam-title',\n",
       "  'content': \"PARIS — As Carlos Alcaraz began constructing his comeback in Sunday's French Open final, a 6-3, 2-6, 5-7, 6-1, 6-2 victory over Alexander Zverev for a first championship at Roland Garros and\"}]"
      ]
     },
     "execution_count": 4,
     "metadata": {},
     "output_type": "execute_result"
    }
   ],
   "source": [
    "search_results\n",
    "\n",
    "# 이런 에러가 나오면, pip install changchain-core -U\n",
    "# 'AttributeError(\"\\'FieldInfo\\' object has no attribute \\'raw_results\\'\")'"
   ]
  },
  {
   "cell_type": "code",
   "execution_count": null,
   "id": "8b13412b-9ca6-4b86-b3df-5bb89dcd70af",
   "metadata": {},
   "outputs": [],
   "source": []
  }
 ],
 "metadata": {
  "kernelspec": {
   "display_name": "mymychabot",
   "language": "python",
   "name": "mychabot"
  },
  "language_info": {
   "codemirror_mode": {
    "name": "ipython",
    "version": 3
   },
   "file_extension": ".py",
   "mimetype": "text/x-python",
   "name": "python",
   "nbconvert_exporter": "python",
   "pygments_lexer": "ipython3",
   "version": "3.9.19"
  }
 },
 "nbformat": 4,
 "nbformat_minor": 5
}
